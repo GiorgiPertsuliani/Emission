{
 "cells": [
  {
   "cell_type": "markdown",
   "id": "bfdacd25",
   "metadata": {
    "papermill": {
     "duration": 0.012944,
     "end_time": "2023-03-31T05:18:39.525092",
     "exception": false,
     "start_time": "2023-03-31T05:18:39.512148",
     "status": "completed"
    },
    "tags": []
   },
   "source": [
    "## **The Role of Methane Emissions from the Energy Sector in Global Warming and Air Quality**\n",
    "\n",
    "Methane is responsible for around 30% of the rise in global temperatures since the Industrial Revolution, and rapid and sustained reductions in methane emissions are key to limiting near-term global warming and improving air quality. The energy sector – including oil, natural gas, coal and bioenergy – accounts for nearly 40% of methane emissions from human activity.\n",
    "\n",
    "[Dataset](https://www.kaggle.com/datasets/ashishraut64/global-methane-emissions)"
   ]
  },
  {
   "cell_type": "code",
   "execution_count": 1,
   "id": "9c296325",
   "metadata": {
    "execution": {
     "iopub.execute_input": "2023-03-31T05:18:39.551053Z",
     "iopub.status.busy": "2023-03-31T05:18:39.550155Z",
     "iopub.status.idle": "2023-03-31T05:18:40.739520Z",
     "shell.execute_reply": "2023-03-31T05:18:40.738164Z"
    },
    "papermill": {
     "duration": 1.205926,
     "end_time": "2023-03-31T05:18:40.742648",
     "exception": false,
     "start_time": "2023-03-31T05:18:39.536722",
     "status": "completed"
    },
    "tags": []
   },
   "outputs": [],
   "source": [
    "#importing libraries\n",
    "\n",
    "import pandas as pd\n",
    "import numpy as np\n",
    "import matplotlib.pyplot as plt\n",
    "import seaborn as sns"
   ]
  },
  {
   "cell_type": "code",
   "execution_count": 2,
   "id": "8dd2ff85",
   "metadata": {
    "execution": {
     "iopub.execute_input": "2023-03-31T05:18:40.768397Z",
     "iopub.status.busy": "2023-03-31T05:18:40.767135Z",
     "iopub.status.idle": "2023-03-31T05:18:40.802046Z",
     "shell.execute_reply": "2023-03-31T05:18:40.800752Z"
    },
    "papermill": {
     "duration": 0.0506,
     "end_time": "2023-03-31T05:18:40.804760",
     "exception": false,
     "start_time": "2023-03-31T05:18:40.754160",
     "status": "completed"
    },
    "tags": []
   },
   "outputs": [],
   "source": [
    "df = pd.read_csv('/kaggle/input/global-methane-emissions/Methane_final.csv')"
   ]
  },
  {
   "cell_type": "code",
   "execution_count": 3,
   "id": "264af3fa",
   "metadata": {
    "execution": {
     "iopub.execute_input": "2023-03-31T05:18:40.831323Z",
     "iopub.status.busy": "2023-03-31T05:18:40.830164Z",
     "iopub.status.idle": "2023-03-31T05:18:40.839461Z",
     "shell.execute_reply": "2023-03-31T05:18:40.838216Z"
    },
    "papermill": {
     "duration": 0.026655,
     "end_time": "2023-03-31T05:18:40.842875",
     "exception": false,
     "start_time": "2023-03-31T05:18:40.816220",
     "status": "completed"
    },
    "tags": []
   },
   "outputs": [
    {
     "data": {
      "text/plain": [
       "Index(['Unnamed: 0', 'region', 'country', 'emissions', 'type', 'segment',\n",
       "       'reason', 'baseYear', 'notes'],\n",
       "      dtype='object')"
      ]
     },
     "execution_count": 3,
     "metadata": {},
     "output_type": "execute_result"
    }
   ],
   "source": [
    "df.columns"
   ]
  },
  {
   "cell_type": "code",
   "execution_count": 4,
   "id": "69ae71f8",
   "metadata": {
    "execution": {
     "iopub.execute_input": "2023-03-31T05:18:40.868381Z",
     "iopub.status.busy": "2023-03-31T05:18:40.867934Z",
     "iopub.status.idle": "2023-03-31T05:18:40.885985Z",
     "shell.execute_reply": "2023-03-31T05:18:40.884450Z"
    },
    "papermill": {
     "duration": 0.033712,
     "end_time": "2023-03-31T05:18:40.888569",
     "exception": false,
     "start_time": "2023-03-31T05:18:40.854857",
     "status": "completed"
    },
    "tags": []
   },
   "outputs": [
    {
     "data": {
      "text/plain": [
       "Energy         1233\n",
       "Agriculture     105\n",
       "Other           105\n",
       "Waste           105\n",
       "Name: type, dtype: int64"
      ]
     },
     "execution_count": 4,
     "metadata": {},
     "output_type": "execute_result"
    }
   ],
   "source": [
    "df['type'].value_counts()"
   ]
  },
  {
   "cell_type": "code",
   "execution_count": 5,
   "id": "29724274",
   "metadata": {
    "execution": {
     "iopub.execute_input": "2023-03-31T05:18:40.913830Z",
     "iopub.status.busy": "2023-03-31T05:18:40.913369Z",
     "iopub.status.idle": "2023-03-31T05:18:40.941685Z",
     "shell.execute_reply": "2023-03-31T05:18:40.940632Z"
    },
    "papermill": {
     "duration": 0.044027,
     "end_time": "2023-03-31T05:18:40.944285",
     "exception": false,
     "start_time": "2023-03-31T05:18:40.900258",
     "status": "completed"
    },
    "tags": []
   },
   "outputs": [
    {
     "data": {
      "text/html": [
       "<div>\n",
       "<style scoped>\n",
       "    .dataframe tbody tr th:only-of-type {\n",
       "        vertical-align: middle;\n",
       "    }\n",
       "\n",
       "    .dataframe tbody tr th {\n",
       "        vertical-align: top;\n",
       "    }\n",
       "\n",
       "    .dataframe thead th {\n",
       "        text-align: right;\n",
       "    }\n",
       "</style>\n",
       "<table border=\"1\" class=\"dataframe\">\n",
       "  <thead>\n",
       "    <tr style=\"text-align: right;\">\n",
       "      <th></th>\n",
       "      <th>Unnamed: 0</th>\n",
       "      <th>region</th>\n",
       "      <th>country</th>\n",
       "      <th>emissions</th>\n",
       "      <th>type</th>\n",
       "      <th>segment</th>\n",
       "      <th>reason</th>\n",
       "      <th>baseYear</th>\n",
       "      <th>notes</th>\n",
       "    </tr>\n",
       "  </thead>\n",
       "  <tbody>\n",
       "    <tr>\n",
       "      <th>0</th>\n",
       "      <td>0</td>\n",
       "      <td>Africa</td>\n",
       "      <td>Algeria</td>\n",
       "      <td>257.611206</td>\n",
       "      <td>Agriculture</td>\n",
       "      <td>Total</td>\n",
       "      <td>All</td>\n",
       "      <td>2019-2021</td>\n",
       "      <td>Average based on United Nations Framework Conv...</td>\n",
       "    </tr>\n",
       "    <tr>\n",
       "      <th>1</th>\n",
       "      <td>1</td>\n",
       "      <td>Africa</td>\n",
       "      <td>Algeria</td>\n",
       "      <td>0.052000</td>\n",
       "      <td>Energy</td>\n",
       "      <td>Bioenergy</td>\n",
       "      <td>All</td>\n",
       "      <td>2022</td>\n",
       "      <td>Estimates from end-uses are for 2020 or 2021 (...</td>\n",
       "    </tr>\n",
       "    <tr>\n",
       "      <th>2</th>\n",
       "      <td>2</td>\n",
       "      <td>Africa</td>\n",
       "      <td>Algeria</td>\n",
       "      <td>130.798996</td>\n",
       "      <td>Energy</td>\n",
       "      <td>Gas pipelines and LNG facilities</td>\n",
       "      <td>Fugitive</td>\n",
       "      <td>2022</td>\n",
       "      <td>Not available</td>\n",
       "    </tr>\n",
       "    <tr>\n",
       "      <th>3</th>\n",
       "      <td>3</td>\n",
       "      <td>Africa</td>\n",
       "      <td>Algeria</td>\n",
       "      <td>69.741898</td>\n",
       "      <td>Energy</td>\n",
       "      <td>Gas pipelines and LNG facilities</td>\n",
       "      <td>Vented</td>\n",
       "      <td>2022</td>\n",
       "      <td>Not available</td>\n",
       "    </tr>\n",
       "    <tr>\n",
       "      <th>4</th>\n",
       "      <td>4</td>\n",
       "      <td>Africa</td>\n",
       "      <td>Algeria</td>\n",
       "      <td>213.987000</td>\n",
       "      <td>Energy</td>\n",
       "      <td>Onshore gas</td>\n",
       "      <td>Fugitive</td>\n",
       "      <td>2022</td>\n",
       "      <td>Not available</td>\n",
       "    </tr>\n",
       "  </tbody>\n",
       "</table>\n",
       "</div>"
      ],
      "text/plain": [
       "   Unnamed: 0  region  country   emissions         type  \\\n",
       "0           0  Africa  Algeria  257.611206  Agriculture   \n",
       "1           1  Africa  Algeria    0.052000       Energy   \n",
       "2           2  Africa  Algeria  130.798996       Energy   \n",
       "3           3  Africa  Algeria   69.741898       Energy   \n",
       "4           4  Africa  Algeria  213.987000       Energy   \n",
       "\n",
       "                            segment    reason   baseYear  \\\n",
       "0                             Total       All  2019-2021   \n",
       "1                         Bioenergy       All       2022   \n",
       "2  Gas pipelines and LNG facilities  Fugitive       2022   \n",
       "3  Gas pipelines and LNG facilities    Vented       2022   \n",
       "4                       Onshore gas  Fugitive       2022   \n",
       "\n",
       "                                               notes  \n",
       "0  Average based on United Nations Framework Conv...  \n",
       "1  Estimates from end-uses are for 2020 or 2021 (...  \n",
       "2                                      Not available  \n",
       "3                                      Not available  \n",
       "4                                      Not available  "
      ]
     },
     "execution_count": 5,
     "metadata": {},
     "output_type": "execute_result"
    }
   ],
   "source": [
    "df.head()"
   ]
  },
  {
   "cell_type": "code",
   "execution_count": 6,
   "id": "334335af",
   "metadata": {
    "execution": {
     "iopub.execute_input": "2023-03-31T05:18:40.970304Z",
     "iopub.status.busy": "2023-03-31T05:18:40.969851Z",
     "iopub.status.idle": "2023-03-31T05:18:40.987536Z",
     "shell.execute_reply": "2023-03-31T05:18:40.986307Z"
    },
    "papermill": {
     "duration": 0.033422,
     "end_time": "2023-03-31T05:18:40.989864",
     "exception": false,
     "start_time": "2023-03-31T05:18:40.956442",
     "status": "completed"
    },
    "tags": []
   },
   "outputs": [
    {
     "data": {
      "text/html": [
       "<div>\n",
       "<style scoped>\n",
       "    .dataframe tbody tr th:only-of-type {\n",
       "        vertical-align: middle;\n",
       "    }\n",
       "\n",
       "    .dataframe tbody tr th {\n",
       "        vertical-align: top;\n",
       "    }\n",
       "\n",
       "    .dataframe thead th {\n",
       "        text-align: right;\n",
       "    }\n",
       "</style>\n",
       "<table border=\"1\" class=\"dataframe\">\n",
       "  <thead>\n",
       "    <tr style=\"text-align: right;\">\n",
       "      <th></th>\n",
       "      <th>Unnamed: 0</th>\n",
       "      <th>region</th>\n",
       "      <th>country</th>\n",
       "      <th>emissions</th>\n",
       "      <th>type</th>\n",
       "      <th>segment</th>\n",
       "      <th>reason</th>\n",
       "      <th>baseYear</th>\n",
       "      <th>notes</th>\n",
       "    </tr>\n",
       "  </thead>\n",
       "  <tbody>\n",
       "    <tr>\n",
       "      <th>1543</th>\n",
       "      <td>1543</td>\n",
       "      <td>World</td>\n",
       "      <td>World</td>\n",
       "      <td>3102.500000</td>\n",
       "      <td>Energy</td>\n",
       "      <td>Satellite-detected large oil and gas emissions</td>\n",
       "      <td>All</td>\n",
       "      <td>2022</td>\n",
       "      <td>Not available</td>\n",
       "    </tr>\n",
       "    <tr>\n",
       "      <th>1544</th>\n",
       "      <td>1544</td>\n",
       "      <td>World</td>\n",
       "      <td>World</td>\n",
       "      <td>30296.500000</td>\n",
       "      <td>Energy</td>\n",
       "      <td>Steam coal</td>\n",
       "      <td>All</td>\n",
       "      <td>2022</td>\n",
       "      <td>Not available</td>\n",
       "    </tr>\n",
       "    <tr>\n",
       "      <th>1545</th>\n",
       "      <td>1545</td>\n",
       "      <td>World</td>\n",
       "      <td>World</td>\n",
       "      <td>133350.984375</td>\n",
       "      <td>Energy</td>\n",
       "      <td>Total</td>\n",
       "      <td>All</td>\n",
       "      <td>2022</td>\n",
       "      <td>Estimates from end-uses are for 2020 or 2021 (...</td>\n",
       "    </tr>\n",
       "    <tr>\n",
       "      <th>1546</th>\n",
       "      <td>1546</td>\n",
       "      <td>World</td>\n",
       "      <td>World</td>\n",
       "      <td>9737.874023</td>\n",
       "      <td>Other</td>\n",
       "      <td>Total</td>\n",
       "      <td>All</td>\n",
       "      <td>2019-2021</td>\n",
       "      <td>Average based on United Nations Framework Conv...</td>\n",
       "    </tr>\n",
       "    <tr>\n",
       "      <th>1547</th>\n",
       "      <td>1547</td>\n",
       "      <td>World</td>\n",
       "      <td>World</td>\n",
       "      <td>70758.710938</td>\n",
       "      <td>Waste</td>\n",
       "      <td>Total</td>\n",
       "      <td>All</td>\n",
       "      <td>2019-2021</td>\n",
       "      <td>Average based on United Nations Framework Conv...</td>\n",
       "    </tr>\n",
       "  </tbody>\n",
       "</table>\n",
       "</div>"
      ],
      "text/plain": [
       "      Unnamed: 0 region country      emissions    type  \\\n",
       "1543        1543  World   World    3102.500000  Energy   \n",
       "1544        1544  World   World   30296.500000  Energy   \n",
       "1545        1545  World   World  133350.984375  Energy   \n",
       "1546        1546  World   World    9737.874023   Other   \n",
       "1547        1547  World   World   70758.710938   Waste   \n",
       "\n",
       "                                             segment reason   baseYear  \\\n",
       "1543  Satellite-detected large oil and gas emissions    All       2022   \n",
       "1544                                      Steam coal    All       2022   \n",
       "1545                                           Total    All       2022   \n",
       "1546                                           Total    All  2019-2021   \n",
       "1547                                           Total    All  2019-2021   \n",
       "\n",
       "                                                  notes  \n",
       "1543                                      Not available  \n",
       "1544                                      Not available  \n",
       "1545  Estimates from end-uses are for 2020 or 2021 (...  \n",
       "1546  Average based on United Nations Framework Conv...  \n",
       "1547  Average based on United Nations Framework Conv...  "
      ]
     },
     "execution_count": 6,
     "metadata": {},
     "output_type": "execute_result"
    }
   ],
   "source": [
    "df.tail()"
   ]
  },
  {
   "cell_type": "markdown",
   "id": "fe57cd2e",
   "metadata": {
    "papermill": {
     "duration": 0.011864,
     "end_time": "2023-03-31T05:18:41.013929",
     "exception": false,
     "start_time": "2023-03-31T05:18:41.002065",
     "status": "completed"
    },
    "tags": []
   },
   "source": [
    "From the output, we can see that there is an additional column named 'Unnamed: 0', which appears to be an index column. We can drop this column using df.drop('Unnamed: 0', axis=1, inplace=True).\n",
    "\n",
    "Now, let's check for the missing values in the dataset using df.isnull().sum() function."
   ]
  },
  {
   "cell_type": "code",
   "execution_count": 7,
   "id": "99baae70",
   "metadata": {
    "execution": {
     "iopub.execute_input": "2023-03-31T05:18:41.040672Z",
     "iopub.status.busy": "2023-03-31T05:18:41.040261Z",
     "iopub.status.idle": "2023-03-31T05:18:41.048197Z",
     "shell.execute_reply": "2023-03-31T05:18:41.046936Z"
    },
    "papermill": {
     "duration": 0.024189,
     "end_time": "2023-03-31T05:18:41.050525",
     "exception": false,
     "start_time": "2023-03-31T05:18:41.026336",
     "status": "completed"
    },
    "tags": []
   },
   "outputs": [],
   "source": [
    "df.drop('Unnamed: 0', axis=1, inplace=True)"
   ]
  },
  {
   "cell_type": "code",
   "execution_count": 8,
   "id": "f5f1d1dd",
   "metadata": {
    "execution": {
     "iopub.execute_input": "2023-03-31T05:18:41.076911Z",
     "iopub.status.busy": "2023-03-31T05:18:41.076513Z",
     "iopub.status.idle": "2023-03-31T05:18:41.085708Z",
     "shell.execute_reply": "2023-03-31T05:18:41.084532Z"
    },
    "papermill": {
     "duration": 0.025347,
     "end_time": "2023-03-31T05:18:41.088082",
     "exception": false,
     "start_time": "2023-03-31T05:18:41.062735",
     "status": "completed"
    },
    "tags": []
   },
   "outputs": [
    {
     "data": {
      "text/plain": [
       "Total                                             414\n",
       "Onshore oil                                       217\n",
       "Gas pipelines and LNG facilities                  164\n",
       "Offshore oil                                      159\n",
       "Onshore gas                                       144\n",
       "Offshore gas                                      118\n",
       "Other from oil and gas                             98\n",
       "Bioenergy                                          93\n",
       "Other from coal                                    66\n",
       "Steam coal                                         30\n",
       "Coking coal                                        24\n",
       "Satellite-detected large oil and gas emissions     21\n",
       "Name: segment, dtype: int64"
      ]
     },
     "execution_count": 8,
     "metadata": {},
     "output_type": "execute_result"
    }
   ],
   "source": [
    "df['segment'].value_counts()"
   ]
  },
  {
   "cell_type": "code",
   "execution_count": 9,
   "id": "0fe8a3dd",
   "metadata": {
    "execution": {
     "iopub.execute_input": "2023-03-31T05:18:41.114841Z",
     "iopub.status.busy": "2023-03-31T05:18:41.114417Z",
     "iopub.status.idle": "2023-03-31T05:18:41.122753Z",
     "shell.execute_reply": "2023-03-31T05:18:41.121461Z"
    },
    "papermill": {
     "duration": 0.025123,
     "end_time": "2023-03-31T05:18:41.125679",
     "exception": false,
     "start_time": "2023-03-31T05:18:41.100556",
     "status": "completed"
    },
    "tags": []
   },
   "outputs": [
    {
     "name": "stdout",
     "output_type": "stream",
     "text": [
      "region       0\n",
      "country      0\n",
      "emissions    0\n",
      "type         0\n",
      "segment      0\n",
      "reason       0\n",
      "baseYear     0\n",
      "notes        0\n",
      "dtype: int64\n"
     ]
    }
   ],
   "source": [
    "print(df.isnull().sum())"
   ]
  },
  {
   "cell_type": "markdown",
   "id": "2b879904",
   "metadata": {
    "papermill": {
     "duration": 0.012064,
     "end_time": "2023-03-31T05:18:41.150374",
     "exception": false,
     "start_time": "2023-03-31T05:18:41.138310",
     "status": "completed"
    },
    "tags": []
   },
   "source": [
    "## **Visualization**"
   ]
  },
  {
   "cell_type": "code",
   "execution_count": 10,
   "id": "979e155a",
   "metadata": {
    "execution": {
     "iopub.execute_input": "2023-03-31T05:18:41.177322Z",
     "iopub.status.busy": "2023-03-31T05:18:41.176846Z",
     "iopub.status.idle": "2023-03-31T05:18:41.542185Z",
     "shell.execute_reply": "2023-03-31T05:18:41.540734Z"
    },
    "papermill": {
     "duration": 0.382145,
     "end_time": "2023-03-31T05:18:41.545013",
     "exception": false,
     "start_time": "2023-03-31T05:18:41.162868",
     "status": "completed"
    },
    "tags": []
   },
   "outputs": [
    {
     "data": {
      "image/png": "[encoded data removed]",
      "text/plain": [
       "<Figure size 640x480 with 1 Axes>"
      ]
     },
     "metadata": {},
     "output_type": "display_data"
    }
   ],
   "source": [
    "import matplotlib.pyplot as plt\n",
    "df['emissions'].plot.hist(bins=50)\n",
    "plt.xlabel('Methane Emissions (kt)')\n",
    "plt.ylabel('Frequency')\n",
    "plt.show()"
   ]
  },
  {
   "cell_type": "code",
   "execution_count": 11,
   "id": "3d13e74f",
   "metadata": {
    "execution": {
     "iopub.execute_input": "2023-03-31T05:18:41.572665Z",
     "iopub.status.busy": "2023-03-31T05:18:41.572197Z",
     "iopub.status.idle": "2023-03-31T05:18:41.584627Z",
     "shell.execute_reply": "2023-03-31T05:18:41.583054Z"
    },
    "papermill": {
     "duration": 0.029381,
     "end_time": "2023-03-31T05:18:41.587391",
     "exception": false,
     "start_time": "2023-03-31T05:18:41.558010",
     "status": "completed"
    },
    "tags": []
   },
   "outputs": [
    {
     "name": "stdout",
     "output_type": "stream",
     "text": [
      "country\n",
      "World             489152.316956\n",
      "China              81048.371586\n",
      "United States      48604.877296\n",
      "Russia             42432.929804\n",
      "India              34852.007386\n",
      "Brazil             21720.838126\n",
      "Indonesia          19404.469000\n",
      "European Union     18985.173461\n",
      "Other              15997.357175\n",
      "Iran               13030.685366\n",
      "Name: emissions, dtype: float64\n"
     ]
    }
   ],
   "source": [
    "top_countries = df.groupby('country')['emissions'].sum().sort_values(ascending=False).head(10)\n",
    "print(top_countries)"
   ]
  },
  {
   "cell_type": "markdown",
   "id": "10901ba4",
   "metadata": {
    "papermill": {
     "duration": 0.01311,
     "end_time": "2023-03-31T05:18:41.613631",
     "exception": false,
     "start_time": "2023-03-31T05:18:41.600521",
     "status": "completed"
    },
    "tags": []
   },
   "source": [
    "Regardless, we can still perform some EDA on this dataset. We can start by excluding the 'World' and 'Other' categories and looking at the top 10 countries with the highest methane emissions."
   ]
  },
  {
   "cell_type": "code",
   "execution_count": 12,
   "id": "f2fd21ca",
   "metadata": {
    "execution": {
     "iopub.execute_input": "2023-03-31T05:18:41.642096Z",
     "iopub.status.busy": "2023-03-31T05:18:41.641693Z",
     "iopub.status.idle": "2023-03-31T05:18:41.653737Z",
     "shell.execute_reply": "2023-03-31T05:18:41.652031Z"
    },
    "papermill": {
     "duration": 0.029654,
     "end_time": "2023-03-31T05:18:41.656466",
     "exception": false,
     "start_time": "2023-03-31T05:18:41.626812",
     "status": "completed"
    },
    "tags": []
   },
   "outputs": [
    {
     "name": "stdout",
     "output_type": "stream",
     "text": [
      "country\n",
      "China             81048.371586\n",
      "United States     48604.877296\n",
      "Russia            42432.929804\n",
      "India             34852.007386\n",
      "Brazil            21720.838126\n",
      "Indonesia         19404.469000\n",
      "European Union    18985.173461\n",
      "Other             15997.357175\n",
      "Iran              13030.685366\n",
      "Nigeria            9903.895667\n",
      "Name: emissions, dtype: float64\n"
     ]
    }
   ],
   "source": [
    "top_countries = df[df['country']!='World'].groupby('country')['emissions'].sum().sort_values(ascending=False).head(10)\n",
    "print(top_countries)"
   ]
  },
  {
   "cell_type": "code",
   "execution_count": 13,
   "id": "5fd673cf",
   "metadata": {
    "execution": {
     "iopub.execute_input": "2023-03-31T05:18:41.685375Z",
     "iopub.status.busy": "2023-03-31T05:18:41.684875Z",
     "iopub.status.idle": "2023-03-31T05:18:41.697388Z",
     "shell.execute_reply": "2023-03-31T05:18:41.695525Z"
    },
    "papermill": {
     "duration": 0.030181,
     "end_time": "2023-03-31T05:18:41.700096",
     "exception": false,
     "start_time": "2023-03-31T05:18:41.669915",
     "status": "completed"
    },
    "tags": []
   },
   "outputs": [
    {
     "name": "stdout",
     "output_type": "stream",
     "text": [
      "country\n",
      "China             81048.371586\n",
      "United States     48604.877296\n",
      "Russia            42432.929804\n",
      "India             34852.007386\n",
      "Brazil            21720.838126\n",
      "Indonesia         19404.469000\n",
      "European Union    18985.173461\n",
      "Other             15997.357175\n",
      "Iran              13030.685366\n",
      "Nigeria            9903.895667\n",
      "Name: emissions, dtype: float64\n"
     ]
    }
   ],
   "source": [
    "top_countries = df[df['country']!='World'].groupby('country')['emissions'].sum().sort_values(ascending=False).head(10)\n",
    "print(top_countries)"
   ]
  },
  {
   "cell_type": "markdown",
   "id": "f9364ba8",
   "metadata": {
    "papermill": {
     "duration": 0.012976,
     "end_time": "2023-03-31T05:18:41.726453",
     "exception": false,
     "start_time": "2023-03-31T05:18:41.713477",
     "status": "completed"
    },
    "tags": []
   },
   "source": [
    "We can see that the top 4 countries with the highest methane emissions are still **China, United States, Russia, and India**, followed by several other countries with lower emissions.\n",
    "\n",
    "We can also visualize the distribution of methane emissions by sector using a bar plot. This will show the total emissions by sector."
   ]
  },
  {
   "cell_type": "code",
   "execution_count": 14,
   "id": "7bcacfc9",
   "metadata": {
    "execution": {
     "iopub.execute_input": "2023-03-31T05:18:41.754615Z",
     "iopub.status.busy": "2023-03-31T05:18:41.754157Z",
     "iopub.status.idle": "2023-03-31T05:18:42.060579Z",
     "shell.execute_reply": "2023-03-31T05:18:42.059272Z"
    },
    "papermill": {
     "duration": 0.323536,
     "end_time": "2023-03-31T05:18:42.063123",
     "exception": false,
     "start_time": "2023-03-31T05:18:41.739587",
     "status": "completed"
    },
    "tags": []
   },
   "outputs": [
    {
     "data": {
      "image/png": "[encoded data removed]",
      "text/plain": [
       "<Figure size 640x480 with 1 Axes>"
      ]
     },
     "metadata": {},
     "output_type": "display_data"
    }
   ],
   "source": [
    "import seaborn as sns\n",
    "sns.barplot(x='type', y='emissions', data=df)\n",
    "plt.xticks(rotation=45)\n",
    "plt.xlabel('Sector')\n",
    "plt.ylabel('Methane Emissions (kt)')\n",
    "plt.show()"
   ]
  },
  {
   "cell_type": "markdown",
   "id": "07389b37",
   "metadata": {
    "papermill": {
     "duration": 0.013121,
     "end_time": "2023-03-31T05:18:42.089943",
     "exception": false,
     "start_time": "2023-03-31T05:18:42.076822",
     "status": "completed"
    },
    "tags": []
   },
   "source": [
    "We can also visualize the distribution of methane emissions by region using a box plot. This will show the median, quartiles, and outliers in the distribution of emissions by region."
   ]
  },
  {
   "cell_type": "code",
   "execution_count": 15,
   "id": "d9b0a13c",
   "metadata": {
    "execution": {
     "iopub.execute_input": "2023-03-31T05:18:42.119330Z",
     "iopub.status.busy": "2023-03-31T05:18:42.118865Z",
     "iopub.status.idle": "2023-03-31T05:18:42.445564Z",
     "shell.execute_reply": "2023-03-31T05:18:42.444183Z"
    },
    "papermill": {
     "duration": 0.344365,
     "end_time": "2023-03-31T05:18:42.448063",
     "exception": false,
     "start_time": "2023-03-31T05:18:42.103698",
     "status": "completed"
    },
    "tags": []
   },
   "outputs": [
    {
     "data": {
      "image/png": "[encoded data removed]",
      "text/plain": [
       "<Figure size 640x480 with 1 Axes>"
      ]
     },
     "metadata": {},
     "output_type": "display_data"
    }
   ],
   "source": [
    "sns.boxplot(x='region', y='emissions', data=df)\n",
    "plt.xticks(rotation=45)\n",
    "plt.xlabel('Region')\n",
    "plt.ylabel('Methane Emissions (kt)')\n",
    "plt.show()"
   ]
  },
  {
   "cell_type": "markdown",
   "id": "f4799822",
   "metadata": {
    "papermill": {
     "duration": 0.014712,
     "end_time": "2023-03-31T05:18:42.478129",
     "exception": false,
     "start_time": "2023-03-31T05:18:42.463417",
     "status": "completed"
    },
    "tags": []
   },
   "source": [
    "The output will be a box plot showing the distribution of methane emissions by region.\n",
    "\n",
    "From the box plot, we can see that the median methane emissions are highest in the Asia Pacific, followed by America and Europe. Africa and Oceania have relatively lower median emissions. We can also see that there are several outliers in the distribution, particularly in the Americas and Asia regions, suggesting that there are a few countries or sectors with very high methane emissions in these regions."
   ]
  },
  {
   "cell_type": "code",
   "execution_count": 16,
   "id": "cd06a9ec",
   "metadata": {
    "execution": {
     "iopub.execute_input": "2023-03-31T05:18:42.511123Z",
     "iopub.status.busy": "2023-03-31T05:18:42.510185Z",
     "iopub.status.idle": "2023-03-31T05:18:42.654764Z",
     "shell.execute_reply": "2023-03-31T05:18:42.653019Z"
    },
    "papermill": {
     "duration": 0.1654,
     "end_time": "2023-03-31T05:18:42.658671",
     "exception": false,
     "start_time": "2023-03-31T05:18:42.493271",
     "status": "completed"
    },
    "tags": []
   },
   "outputs": [
    {
     "data": {
      "image/png": "[encoded data removed]",
      "text/plain": [
       "<Figure size 640x480 with 1 Axes>"
      ]
     },
     "metadata": {},
     "output_type": "display_data"
    }
   ],
   "source": [
    "df.groupby('type')['emissions'].sum().plot(kind='pie', autopct='%1.1f%%')\n",
    "plt.ylabel('')\n",
    "plt.title('Total Methane Emissions by Sector')\n",
    "plt.show()"
   ]
  },
  {
   "cell_type": "markdown",
   "id": "f5d71800",
   "metadata": {
    "papermill": {
     "duration": 0.024428,
     "end_time": "2023-03-31T05:18:42.708703",
     "exception": false,
     "start_time": "2023-03-31T05:18:42.684275",
     "status": "completed"
    },
    "tags": []
   },
   "source": [
    "The output will be a pie chart showing the total methane emissions by sector.\n",
    "\n",
    "**From the pie chart, we can see that the energy sector, which includes oil, natural gas, coal, and bioenergy, is responsible for above 50% of methane emissions from human activity, followed by agriculture and waste sectors. This highlights the importance of reducing methane emissions from the energy sector in order to limit near-term global warming and improve air quality.**"
   ]
  },
  {
   "cell_type": "markdown",
   "id": "3b9a5ac6",
   "metadata": {
    "papermill": {
     "duration": 0.015076,
     "end_time": "2023-03-31T05:18:42.742867",
     "exception": false,
     "start_time": "2023-03-31T05:18:42.727791",
     "status": "completed"
    },
    "tags": []
   },
   "source": [
    "### **Visualize the top 10 countries with the highest methane emissions using a bar plot.**"
   ]
  },
  {
   "cell_type": "code",
   "execution_count": 17,
   "id": "0aff5aad",
   "metadata": {
    "execution": {
     "iopub.execute_input": "2023-03-31T05:18:42.775281Z",
     "iopub.status.busy": "2023-03-31T05:18:42.774516Z",
     "iopub.status.idle": "2023-03-31T05:18:43.040521Z",
     "shell.execute_reply": "2023-03-31T05:18:43.039437Z"
    },
    "papermill": {
     "duration": 0.285109,
     "end_time": "2023-03-31T05:18:43.043170",
     "exception": false,
     "start_time": "2023-03-31T05:18:42.758061",
     "status": "completed"
    },
    "tags": []
   },
   "outputs": [
    {
     "data": {
      "image/png": "[encoded data removed]",
      "text/plain": [
       "<Figure size 640x480 with 1 Axes>"
      ]
     },
     "metadata": {},
     "output_type": "display_data"
    }
   ],
   "source": [
    "\n",
    "\n",
    "top_countries = df[df['country']!='World'].groupby('country')['emissions'].sum().sort_values(ascending=False).head(10)\n",
    "\n",
    "sns.barplot(x=top_countries.index, y=top_countries.values)\n",
    "plt.xticks(rotation=45)\n",
    "plt.xlabel('Country')\n",
    "plt.ylabel('Methane Emissions (kt)')\n",
    "plt.title('Top 10 Countries with the Highest Methane Emissions')\n",
    "plt.show()"
   ]
  },
  {
   "cell_type": "markdown",
   "id": "06f66ae1",
   "metadata": {
    "papermill": {
     "duration": 0.015703,
     "end_time": "2023-03-31T05:18:43.075282",
     "exception": false,
     "start_time": "2023-03-31T05:18:43.059579",
     "status": "completed"
    },
    "tags": []
   },
   "source": [
    "The output will be a bar plot showing the total methane emissions for each of the top 10 countries."
   ]
  },
  {
   "cell_type": "markdown",
   "id": "cd2830f0",
   "metadata": {
    "papermill": {
     "duration": 0.01575,
     "end_time": "2023-03-31T05:18:43.106890",
     "exception": false,
     "start_time": "2023-03-31T05:18:43.091140",
     "status": "completed"
    },
    "tags": []
   },
   "source": [
    "**Plot the trend of methane emissions over time for a specific country or region.**"
   ]
  },
  {
   "cell_type": "markdown",
   "id": "0f5ece0c",
   "metadata": {
    "papermill": {
     "duration": 0.015489,
     "end_time": "2023-03-31T05:18:43.138279",
     "exception": false,
     "start_time": "2023-03-31T05:18:43.122790",
     "status": "completed"
    },
    "tags": []
   },
   "source": [
    "### **Visualize the distribution of methane emissions by sector and reason using a stacked bar plot.**"
   ]
  },
  {
   "cell_type": "code",
   "execution_count": 18,
   "id": "0766e595",
   "metadata": {
    "execution": {
     "iopub.execute_input": "2023-03-31T05:18:43.172397Z",
     "iopub.status.busy": "2023-03-31T05:18:43.171511Z",
     "iopub.status.idle": "2023-03-31T05:18:43.460630Z",
     "shell.execute_reply": "2023-03-31T05:18:43.459127Z"
    },
    "papermill": {
     "duration": 0.309389,
     "end_time": "2023-03-31T05:18:43.463439",
     "exception": false,
     "start_time": "2023-03-31T05:18:43.154050",
     "status": "completed"
    },
    "tags": []
   },
   "outputs": [
    {
     "data": {
      "image/png": "[encoded data removed]",
      "text/plain": [
       "<Figure size 640x480 with 1 Axes>"
      ]
     },
     "metadata": {},
     "output_type": "display_data"
    }
   ],
   "source": [
    "# Filter out the rows with missing values in the 'reason' column\n",
    "df_clean = df.dropna(subset=['reason'])\n",
    "\n",
    "# Pivot the dataset to have the sectors as columns, the reasons as rows, and the emissions as values\n",
    "df_pivot = df_clean.pivot_table(index='reason', columns='type', values='emissions', aggfunc=np.sum)\n",
    "\n",
    "# Plot the stacked bar plot\n",
    "df_pivot.plot(kind='bar', stacked=True)\n",
    "plt.xticks(rotation=45)\n",
    "plt.xlabel('Reason for Emission')\n",
    "plt.ylabel('Methane Emissions (kt)')\n",
    "plt.title('Distribution of Methane Emissions by Sector and Reason')\n",
    "plt.show()"
   ]
  },
  {
   "cell_type": "code",
   "execution_count": 19,
   "id": "c0ae6cca",
   "metadata": {
    "execution": {
     "iopub.execute_input": "2023-03-31T05:18:43.500319Z",
     "iopub.status.busy": "2023-03-31T05:18:43.499893Z",
     "iopub.status.idle": "2023-03-31T05:18:43.516665Z",
     "shell.execute_reply": "2023-03-31T05:18:43.515381Z"
    },
    "papermill": {
     "duration": 0.037854,
     "end_time": "2023-03-31T05:18:43.519001",
     "exception": false,
     "start_time": "2023-03-31T05:18:43.481147",
     "status": "completed"
    },
    "tags": []
   },
   "outputs": [
    {
     "data": {
      "text/html": [
       "<div>\n",
       "<style scoped>\n",
       "    .dataframe tbody tr th:only-of-type {\n",
       "        vertical-align: middle;\n",
       "    }\n",
       "\n",
       "    .dataframe tbody tr th {\n",
       "        vertical-align: top;\n",
       "    }\n",
       "\n",
       "    .dataframe thead th {\n",
       "        text-align: right;\n",
       "    }\n",
       "</style>\n",
       "<table border=\"1\" class=\"dataframe\">\n",
       "  <thead>\n",
       "    <tr style=\"text-align: right;\">\n",
       "      <th></th>\n",
       "      <th>region</th>\n",
       "      <th>country</th>\n",
       "      <th>emissions</th>\n",
       "      <th>type</th>\n",
       "      <th>segment</th>\n",
       "      <th>reason</th>\n",
       "      <th>baseYear</th>\n",
       "      <th>notes</th>\n",
       "    </tr>\n",
       "  </thead>\n",
       "  <tbody>\n",
       "    <tr>\n",
       "      <th>1</th>\n",
       "      <td>Africa</td>\n",
       "      <td>Algeria</td>\n",
       "      <td>0.052000</td>\n",
       "      <td>Energy</td>\n",
       "      <td>Bioenergy</td>\n",
       "      <td>All</td>\n",
       "      <td>2022</td>\n",
       "      <td>Estimates from end-uses are for 2020 or 2021 (...</td>\n",
       "    </tr>\n",
       "    <tr>\n",
       "      <th>2</th>\n",
       "      <td>Africa</td>\n",
       "      <td>Algeria</td>\n",
       "      <td>130.798996</td>\n",
       "      <td>Energy</td>\n",
       "      <td>Gas pipelines and LNG facilities</td>\n",
       "      <td>Fugitive</td>\n",
       "      <td>2022</td>\n",
       "      <td>Not available</td>\n",
       "    </tr>\n",
       "    <tr>\n",
       "      <th>3</th>\n",
       "      <td>Africa</td>\n",
       "      <td>Algeria</td>\n",
       "      <td>69.741898</td>\n",
       "      <td>Energy</td>\n",
       "      <td>Gas pipelines and LNG facilities</td>\n",
       "      <td>Vented</td>\n",
       "      <td>2022</td>\n",
       "      <td>Not available</td>\n",
       "    </tr>\n",
       "    <tr>\n",
       "      <th>4</th>\n",
       "      <td>Africa</td>\n",
       "      <td>Algeria</td>\n",
       "      <td>213.987000</td>\n",
       "      <td>Energy</td>\n",
       "      <td>Onshore gas</td>\n",
       "      <td>Fugitive</td>\n",
       "      <td>2022</td>\n",
       "      <td>Not available</td>\n",
       "    </tr>\n",
       "    <tr>\n",
       "      <th>5</th>\n",
       "      <td>Africa</td>\n",
       "      <td>Algeria</td>\n",
       "      <td>464.308014</td>\n",
       "      <td>Energy</td>\n",
       "      <td>Onshore gas</td>\n",
       "      <td>Vented</td>\n",
       "      <td>2022</td>\n",
       "      <td>Not available</td>\n",
       "    </tr>\n",
       "  </tbody>\n",
       "</table>\n",
       "</div>"
      ],
      "text/plain": [
       "   region  country   emissions    type                           segment  \\\n",
       "1  Africa  Algeria    0.052000  Energy                         Bioenergy   \n",
       "2  Africa  Algeria  130.798996  Energy  Gas pipelines and LNG facilities   \n",
       "3  Africa  Algeria   69.741898  Energy  Gas pipelines and LNG facilities   \n",
       "4  Africa  Algeria  213.987000  Energy                       Onshore gas   \n",
       "5  Africa  Algeria  464.308014  Energy                       Onshore gas   \n",
       "\n",
       "     reason baseYear                                              notes  \n",
       "1       All     2022  Estimates from end-uses are for 2020 or 2021 (...  \n",
       "2  Fugitive     2022                                      Not available  \n",
       "3    Vented     2022                                      Not available  \n",
       "4  Fugitive     2022                                      Not available  \n",
       "5    Vented     2022                                      Not available  "
      ]
     },
     "execution_count": 19,
     "metadata": {},
     "output_type": "execute_result"
    }
   ],
   "source": [
    "temp=df[df['type']=='Energy']\n",
    "temp.head()"
   ]
  },
  {
   "cell_type": "markdown",
   "id": "1f85f3bc",
   "metadata": {
    "papermill": {
     "duration": 0.017534,
     "end_time": "2023-03-31T05:18:43.553605",
     "exception": false,
     "start_time": "2023-03-31T05:18:43.536071",
     "status": "completed"
    },
    "tags": []
   },
   "source": [
    "# Region wise segment analysis"
   ]
  },
  {
   "cell_type": "code",
   "execution_count": 20,
   "id": "19d3f8cd",
   "metadata": {
    "execution": {
     "iopub.execute_input": "2023-03-31T05:18:43.590045Z",
     "iopub.status.busy": "2023-03-31T05:18:43.589623Z",
     "iopub.status.idle": "2023-03-31T05:18:46.892272Z",
     "shell.execute_reply": "2023-03-31T05:18:46.891171Z"
    },
    "papermill": {
     "duration": 3.32375,
     "end_time": "2023-03-31T05:18:46.894815",
     "exception": false,
     "start_time": "2023-03-31T05:18:43.571065",
     "status": "completed"
    },
    "tags": []
   },
   "outputs": [
    {
     "data": {
      "text/html": [
       "        <script type=\"text/javascript\">\n",
       "        window.PlotlyConfig = {MathJaxConfig: 'local'};\n",
       "        if (window.MathJax && window.MathJax.Hub && window.MathJax.Hub.Config) {window.MathJax.Hub.Config({SVG: {font: \"STIX-Web\"}});}\n",
       "        if (typeof require !== 'undefined') {\n",
       "        require.undef(\"plotly\");\n",
       "        requirejs.config({\n",
       "            paths: {\n",
       "                'plotly': ['https://cdn.plot.ly/plotly-2.18.0.min']\n",
       "            }\n",
       "        });\n",
       "        require(['plotly'], function(Plotly) {\n",
       "            window._Plotly = Plotly;\n",
       "        });\n",
       "        }\n",
       "        </script>\n",
       "        "
      ]
     },
     "metadata": {},
     "output_type": "display_data"
    },
    {
     "data": {
      "text/html": [
       "<div>                            <div id=\"f4ee33c6-0220-45d3-9bf2-dbefae834fa4\" class=\"plotly-graph-div\" style=\"height:700px; width:700px;\"></div>            <script type=\"text/javascript\">                require([\"plotly\"], function(Plotly) {                    window.PLOTLYENV=window.PLOTLYENV || {};                                    if (document.getElementById(\"f4ee33c6-0220-45d3-9bf2-dbefae834fa4\")) {                    Plotly.newPlot(                        \"f4ee33c6-0220-45d3-9bf2-dbefae834fa4\",                        [{\"branchvalues\":\"total\",\"customdata\":[[\"Africa\"],[\"Europe\"],[\"Central and South America\"],[\"Asia Pacific\"],[\"Africa\"],[\"World\"],[\"Russia & Caspian\"],[\"Other\"],[\"North America\"],[\"Middle East\"],[\"Europe\"],[\"Central and South America\"],[\"Asia Pacific\"],[\"Africa\"],[\"World\"],[\"Russia & Caspian\"],[\"Other\"],[\"North America\"],[\"Middle East\"],[\"Europe\"],[\"Central and South America\"],[\"Asia Pacific\"],[\"Africa\"],[\"World\"],[\"Russia & Caspian\"],[\"Other\"],[\"Middle East\"],[\"North America\"],[\"North America\"],[\"World\"],[\"Other\"],[\"North America\"],[\"Middle East\"],[\"Europe\"],[\"Central and South America\"],[\"Asia Pacific\"],[\"Africa\"],[\"World\"],[\"Russia & Caspian\"],[\"Other\"],[\"North America\"],[\"Middle East\"],[\"Europe\"],[\"Central and South America\"],[\"Asia Pacific\"],[\"Africa\"],[\"World\"],[\"Russia & Caspian\"],[\"Other\"],[\"North America\"],[\"Middle East\"],[\"Europe\"],[\"Central and South America\"],[\"Asia Pacific\"],[\"Africa\"],[\"Russia & Caspian\"],[\"Middle East\"],[\"Europe\"],[\"Central and South America\"],[\"Russia & Caspian\"],[\"Other\"],[\"North America\"],[\"Middle East\"],[\"Europe\"],[\"Central and South America\"],[\"Asia Pacific\"],[\"Africa\"],[\"World\"],[\"Russia & Caspian\"],[\"Other\"],[\"North America\"],[\"Middle East\"],[\"Europe\"],[\"Central and South America\"],[\"Asia Pacific\"],[\"Africa\"],[\"World\"],[\"Russia & Caspian\"],[\"Other\"],[\"North America\"],[\"Middle East\"],[\"Europe\"],[\"Central and South America\"],[\"Asia Pacific\"],[\"World\"],[\"Africa\"],[\"Asia Pacific\"],[\"Central and South America\"],[\"Asia Pacific\"],[\"Africa\"],[\"World\"],[\"Russia & Caspian\"],[\"Other\"],[\"North America\"],[\"Middle East\"],[\"Europe\"],[\"Central and South America\"],[\"Asia Pacific\"],[\"Africa\"],[\"World\"],[\"Russia & Caspian\"],[\"Russia & Caspian\"],[\"North America\"],[\"Middle East\"],[\"Europe\"],[\"Central and South America\"],[\"Asia Pacific\"],[\"Africa\"],[\"World\"],[\"Russia & Caspian\"],[\"Other\"],[\"North America\"],[\"Middle East\"],[\"Europe\"],[\"Other\"],[\"World\"]],\"domain\":{\"x\":[0.0,1.0],\"y\":[0.0,1.0]},\"hovertemplate\":\"labels=%{label}<br>emissions=%{value}<br>parent=%{parent}<br>id=%{id}<br>region=%{customdata[0]}<extra></extra>\",\"ids\":[\"Africa/Bioenergy\",\"Europe/Satellite-detected large oil and gas emissions\",\"Central and South America/Satellite-detected large oil and gas emissions\",\"Asia Pacific/Satellite-detected large oil and gas emissions\",\"Africa/Satellite-detected large oil and gas emissions\",\"World/Other from oil and gas\",\"Russia & Caspian/Other from oil and gas\",\"Other/Other from oil and gas\",\"North America/Other from oil and gas\",\"Middle East/Other from oil and gas\",\"Europe/Other from oil and gas\",\"Central and South America/Other from oil and gas\",\"Asia Pacific/Other from oil and gas\",\"Africa/Other from oil and gas\",\"World/Other from coal\",\"Russia & Caspian/Other from coal\",\"Other/Other from coal\",\"North America/Other from coal\",\"Middle East/Other from coal\",\"Europe/Other from coal\",\"Central and South America/Other from coal\",\"Asia Pacific/Other from coal\",\"Africa/Other from coal\",\"World/Onshore oil\",\"Russia & Caspian/Onshore oil\",\"Other/Onshore oil\",\"Middle East/Satellite-detected large oil and gas emissions\",\"North America/Onshore oil\",\"North America/Satellite-detected large oil and gas emissions\",\"World/Satellite-detected large oil and gas emissions\",\"Other\",\"North America\",\"Middle East\",\"Europe\",\"Central and South America\",\"Asia Pacific\",\"Africa\",\"World/Total\",\"Russia & Caspian/Total\",\"Other/Total\",\"North America/Total\",\"Middle East/Total\",\"Europe/Total\",\"Central and South America/Total\",\"Asia Pacific/Total\",\"Africa/Total\",\"World/Steam coal\",\"Russia & Caspian/Steam coal\",\"Other/Steam coal\",\"North America/Steam coal\",\"Middle East/Steam coal\",\"Europe/Steam coal\",\"Central and South America/Steam coal\",\"Asia Pacific/Steam coal\",\"Africa/Steam coal\",\"Russia & Caspian/Satellite-detected large oil and gas emissions\",\"Middle East/Onshore oil\",\"Europe/Onshore oil\",\"Central and South America/Onshore oil\",\"Russia & Caspian/Gas pipelines and LNG facilities\",\"Other/Gas pipelines and LNG facilities\",\"North America/Gas pipelines and LNG facilities\",\"Middle East/Gas pipelines and LNG facilities\",\"Europe/Gas pipelines and LNG facilities\",\"Central and South America/Gas pipelines and LNG facilities\",\"Asia Pacific/Gas pipelines and LNG facilities\",\"Africa/Gas pipelines and LNG facilities\",\"World/Coking coal\",\"Russia & Caspian/Coking coal\",\"Other/Coking coal\",\"North America/Coking coal\",\"Middle East/Coking coal\",\"Europe/Coking coal\",\"Central and South America/Coking coal\",\"Asia Pacific/Coking coal\",\"Africa/Coking coal\",\"World/Bioenergy\",\"Russia & Caspian/Bioenergy\",\"Other/Bioenergy\",\"North America/Bioenergy\",\"Middle East/Bioenergy\",\"Europe/Bioenergy\",\"Central and South America/Bioenergy\",\"Asia Pacific/Bioenergy\",\"World/Gas pipelines and LNG facilities\",\"Africa/Offshore gas\",\"Asia Pacific/Offshore gas\",\"Central and South America/Offshore gas\",\"Asia Pacific/Onshore oil\",\"Africa/Onshore oil\",\"World/Onshore gas\",\"Russia & Caspian/Onshore gas\",\"Other/Onshore gas\",\"North America/Onshore gas\",\"Middle East/Onshore gas\",\"Europe/Onshore gas\",\"Central and South America/Onshore gas\",\"Asia Pacific/Onshore gas\",\"Africa/Onshore gas\",\"World/Offshore oil\",\"Russia & Caspian\",\"Russia & Caspian/Offshore oil\",\"North America/Offshore oil\",\"Middle East/Offshore oil\",\"Europe/Offshore oil\",\"Central and South America/Offshore oil\",\"Asia Pacific/Offshore oil\",\"Africa/Offshore oil\",\"World/Offshore gas\",\"Russia & Caspian/Offshore gas\",\"Other/Offshore gas\",\"North America/Offshore gas\",\"Middle East/Offshore gas\",\"Europe/Offshore gas\",\"Other/Offshore oil\",\"World\"],\"labels\":[\"Bioenergy\",\"Satellite-detected large oil and gas emissions\",\"Satellite-detected large oil and gas emissions\",\"Satellite-detected large oil and gas emissions\",\"Satellite-detected large oil and gas emissions\",\"Other from oil and gas\",\"Other from oil and gas\",\"Other from oil and gas\",\"Other from oil and gas\",\"Other from oil and gas\",\"Other from oil and gas\",\"Other from oil and gas\",\"Other from oil and gas\",\"Other from oil and gas\",\"Other from coal\",\"Other from coal\",\"Other from coal\",\"Other from coal\",\"Other from coal\",\"Other from coal\",\"Other from coal\",\"Other from coal\",\"Other from coal\",\"Onshore oil\",\"Onshore oil\",\"Onshore oil\",\"Satellite-detected large oil and gas emissions\",\"Onshore oil\",\"Satellite-detected large oil and gas emissions\",\"Satellite-detected large oil and gas emissions\",\"Other\",\"North America\",\"Middle East\",\"Europe\",\"Central and South America\",\"Asia Pacific\",\"Africa\",\"Total\",\"Total\",\"Total\",\"Total\",\"Total\",\"Total\",\"Total\",\"Total\",\"Total\",\"Steam coal\",\"Steam coal\",\"Steam coal\",\"Steam coal\",\"Steam coal\",\"Steam coal\",\"Steam coal\",\"Steam coal\",\"Steam coal\",\"Satellite-detected large oil and gas emissions\",\"Onshore oil\",\"Onshore oil\",\"Onshore oil\",\"Gas pipelines and LNG facilities\",\"Gas pipelines and LNG facilities\",\"Gas pipelines and LNG facilities\",\"Gas pipelines and LNG facilities\",\"Gas pipelines and LNG facilities\",\"Gas pipelines and LNG facilities\",\"Gas pipelines and LNG facilities\",\"Gas pipelines and LNG facilities\",\"Coking coal\",\"Coking coal\",\"Coking coal\",\"Coking coal\",\"Coking coal\",\"Coking coal\",\"Coking coal\",\"Coking coal\",\"Coking coal\",\"Bioenergy\",\"Bioenergy\",\"Bioenergy\",\"Bioenergy\",\"Bioenergy\",\"Bioenergy\",\"Bioenergy\",\"Bioenergy\",\"Gas pipelines and LNG facilities\",\"Offshore gas\",\"Offshore gas\",\"Offshore gas\",\"Onshore oil\",\"Onshore oil\",\"Onshore gas\",\"Onshore gas\",\"Onshore gas\",\"Onshore gas\",\"Onshore gas\",\"Onshore gas\",\"Onshore gas\",\"Onshore gas\",\"Onshore gas\",\"Offshore oil\",\"Russia & Caspian\",\"Offshore oil\",\"Offshore oil\",\"Offshore oil\",\"Offshore oil\",\"Offshore oil\",\"Offshore oil\",\"Offshore oil\",\"Offshore gas\",\"Offshore gas\",\"Offshore gas\",\"Offshore gas\",\"Offshore gas\",\"Offshore gas\",\"Offshore oil\",\"World\"],\"marker\":{\"colors\":[\"#636efa\",\"#EF553B\",\"#00cc96\",\"#ab63fa\",\"#636efa\",\"#FFA15A\",\"#19d3f3\",\"#FF6692\",\"#B6E880\",\"#FF97FF\",\"#EF553B\",\"#00cc96\",\"#ab63fa\",\"#636efa\",\"#FFA15A\",\"#19d3f3\",\"#FF6692\",\"#B6E880\",\"#FF97FF\",\"#EF553B\",\"#00cc96\",\"#ab63fa\",\"#636efa\",\"#FFA15A\",\"#19d3f3\",\"#FF6692\",\"#FF97FF\",\"#B6E880\",\"#B6E880\",\"#FFA15A\",\"#FF6692\",\"#B6E880\",\"#FF97FF\",\"#EF553B\",\"#00cc96\",\"#ab63fa\",\"#636efa\",\"#FFA15A\",\"#19d3f3\",\"#FF6692\",\"#B6E880\",\"#FF97FF\",\"#EF553B\",\"#00cc96\",\"#ab63fa\",\"#636efa\",\"#FFA15A\",\"#19d3f3\",\"#FF6692\",\"#B6E880\",\"#FF97FF\",\"#EF553B\",\"#00cc96\",\"#ab63fa\",\"#636efa\",\"#19d3f3\",\"#FF97FF\",\"#EF553B\",\"#00cc96\",\"#19d3f3\",\"#FF6692\",\"#B6E880\",\"#FF97FF\",\"#EF553B\",\"#00cc96\",\"#ab63fa\",\"#636efa\",\"#FFA15A\",\"#19d3f3\",\"#FF6692\",\"#B6E880\",\"#FF97FF\",\"#EF553B\",\"#00cc96\",\"#ab63fa\",\"#636efa\",\"#FFA15A\",\"#19d3f3\",\"#FF6692\",\"#B6E880\",\"#FF97FF\",\"#EF553B\",\"#00cc96\",\"#ab63fa\",\"#FFA15A\",\"#636efa\",\"#ab63fa\",\"#00cc96\",\"#ab63fa\",\"#636efa\",\"#FFA15A\",\"#19d3f3\",\"#FF6692\",\"#B6E880\",\"#FF97FF\",\"#EF553B\",\"#00cc96\",\"#ab63fa\",\"#636efa\",\"#FFA15A\",\"#19d3f3\",\"#19d3f3\",\"#B6E880\",\"#FF97FF\",\"#EF553B\",\"#00cc96\",\"#ab63fa\",\"#636efa\",\"#FFA15A\",\"#19d3f3\",\"#FF6692\",\"#B6E880\",\"#FF97FF\",\"#EF553B\",\"#FF6692\",\"#FFA15A\"]},\"name\":\"\",\"parents\":[\"Africa\",\"Europe\",\"Central and South America\",\"Asia Pacific\",\"Africa\",\"World\",\"Russia & Caspian\",\"Other\",\"North America\",\"Middle East\",\"Europe\",\"Central and South America\",\"Asia Pacific\",\"Africa\",\"World\",\"Russia & Caspian\",\"Other\",\"North America\",\"Middle East\",\"Europe\",\"Central and South America\",\"Asia Pacific\",\"Africa\",\"World\",\"Russia & Caspian\",\"Other\",\"Middle East\",\"North America\",\"North America\",\"World\",\"\",\"\",\"\",\"\",\"\",\"\",\"\",\"World\",\"Russia & Caspian\",\"Other\",\"North America\",\"Middle East\",\"Europe\",\"Central and South America\",\"Asia Pacific\",\"Africa\",\"World\",\"Russia & Caspian\",\"Other\",\"North America\",\"Middle East\",\"Europe\",\"Central and South America\",\"Asia Pacific\",\"Africa\",\"Russia & Caspian\",\"Middle East\",\"Europe\",\"Central and South America\",\"Russia & Caspian\",\"Other\",\"North America\",\"Middle East\",\"Europe\",\"Central and South America\",\"Asia Pacific\",\"Africa\",\"World\",\"Russia & Caspian\",\"Other\",\"North America\",\"Middle East\",\"Europe\",\"Central and South America\",\"Asia Pacific\",\"Africa\",\"World\",\"Russia & Caspian\",\"Other\",\"North America\",\"Middle East\",\"Europe\",\"Central and South America\",\"Asia Pacific\",\"World\",\"Africa\",\"Asia Pacific\",\"Central and South America\",\"Asia Pacific\",\"Africa\",\"World\",\"Russia & Caspian\",\"Other\",\"North America\",\"Middle East\",\"Europe\",\"Central and South America\",\"Asia Pacific\",\"Africa\",\"World\",\"\",\"Russia & Caspian\",\"North America\",\"Middle East\",\"Europe\",\"Central and South America\",\"Asia Pacific\",\"Africa\",\"World\",\"Russia & Caspian\",\"Other\",\"North America\",\"Middle East\",\"Europe\",\"Other\",\"\"],\"values\":[2948.11202929914,7.800000190734864,27.299999237060547,18.00000023841858,72.0,2292.331787109375,145.21930599212646,28.12497329711914,682.3980941772461,172.63882112503052,490.25170052051544,120.38978591561317,755.8738211393356,98.28119658166543,1518.4820556640625,135.82365942001343,35.80628967285156,24.79606431722641,1.3120796643197534,464.6865867078303,4.1663658688776195,988.2669673673809,44.484001331496984,34231.9599609375,8103.991293430328,169.05092096328735,134.4000016450882,6346.88267993927,357.6000061035156,3102.5,4841.759946305363,41798.716642059386,32540.824141286314,13764.954998687608,14646.325497671496,83240.17148713674,26535.87804948422,133350.984375,26662.857391357422,2420.8798828125,20899.358520507812,16270.412222385406,6882.4775223731995,7323.162752151489,41620.08594894409,13267.938953979872,30296.5,3241.906005859375,838.1268920898438,1201.6836290359497,0.5593019723892212,1045.9436118677258,371.2563014328479,22227.517842829227,1120.2797584533691,2489.2999992370605,9633.234406337142,266.7061402415857,3453.331796333194,2724.4659948349,114.00376892089844,3224.3882751464844,1360.741253376007,1714.1594553813338,599.9649664126337,2265.579352617264,635.7206603847444,10009.900390625,1913.9650573730466,17.066499710083008,918.8790855407715,35.70140075683594,642.4851621389389,25.47529983520508,6671.294979095459,88.29019927978516,9208.0400390625,29.472000455483794,1187.4720458984375,348.9199981689453,9.655999910086393,1592.1999818086624,354.21199092268944,3456.3639911413193,11961.6201171875,486.39373986423016,1060.7053881287575,325.5057812035084,1890.6945101991296,4468.8914928676095,17957.06982421875,6543.4507220983505,25.5791072845459,6680.345411300659,1150.6298131793737,363.6694374021608,751.7600395083427,1509.0012030899525,1073.1618391359225,8429.137878417969,53325.71439382993,955.1674590110779,1001.8004970550537,1947.3134101629257,146.38957866979763,1289.8004188500345,776.787482346408,2232.324178306386,4343.43994140625,380.0955047607422,5.620730042457579,111.66438076645136,1824.2254307717085,148.18582138512284,0.028835613338742197,266701.9663696289],\"type\":\"sunburst\"}],                        {\"template\":{\"data\":{\"histogram2dcontour\":[{\"type\":\"histogram2dcontour\",\"colorbar\":{\"outlinewidth\":0,\"ticks\":\"\"},\"colorscale\":[[0.0,\"#0d0887\"],[0.1111111111111111,\"#46039f\"],[0.2222222222222222,\"#7201a8\"],[0.3333333333333333,\"#9c179e\"],[0.4444444444444444,\"#bd3786\"],[0.5555555555555556,\"#d8576b\"],[0.6666666666666666,\"#ed7953\"],[0.7777777777777778,\"#fb9f3a\"],[0.8888888888888888,\"#fdca26\"],[1.0,\"#f0f921\"]]}],\"choropleth\":[{\"type\":\"choropleth\",\"colorbar\":{\"outlinewidth\":0,\"ticks\":\"\"}}],\"histogram2d\":[{\"type\":\"histogram2d\",\"colorbar\":{\"outlinewidth\":0,\"ticks\":\"\"},\"colorscale\":[[0.0,\"#0d0887\"],[0.1111111111111111,\"#46039f\"],[0.2222222222222222,\"#7201a8\"],[0.3333333333333333,\"#9c179e\"],[0.4444444444444444,\"#bd3786\"],[0.5555555555555556,\"#d8576b\"],[0.6666666666666666,\"#ed7953\"],[0.7777777777777778,\"#fb9f3a\"],[0.8888888888888888,\"#fdca26\"],[1.0,\"#f0f921\"]]}],\"heatmap\":[{\"type\":\"heatmap\",\"colorbar\":{\"outlinewidth\":0,\"ticks\":\"\"},\"colorscale\":[[0.0,\"#0d0887\"],[0.1111111111111111,\"#46039f\"],[0.2222222222222222,\"#7201a8\"],[0.3333333333333333,\"#9c179e\"],[0.4444444444444444,\"#bd3786\"],[0.5555555555555556,\"#d8576b\"],[0.6666666666666666,\"#ed7953\"],[0.7777777777777778,\"#fb9f3a\"],[0.8888888888888888,\"#fdca26\"],[1.0,\"#f0f921\"]]}],\"heatmapgl\":[{\"type\":\"heatmapgl\",\"colorbar\":{\"outlinewidth\":0,\"ticks\":\"\"},\"colorscale\":[[0.0,\"#0d0887\"],[0.1111111111111111,\"#46039f\"],[0.2222222222222222,\"#7201a8\"],[0.3333333333333333,\"#9c179e\"],[0.4444444444444444,\"#bd3786\"],[0.5555555555555556,\"#d8576b\"],[0.6666666666666666,\"#ed7953\"],[0.7777777777777778,\"#fb9f3a\"],[0.8888888888888888,\"#fdca26\"],[1.0,\"#f0f921\"]]}],\"contourcarpet\":[{\"type\":\"contourcarpet\",\"colorbar\":{\"outlinewidth\":0,\"ticks\":\"\"}}],\"contour\":[{\"type\":\"contour\",\"colorbar\":{\"outlinewidth\":0,\"ticks\":\"\"},\"colorscale\":[[0.0,\"#0d0887\"],[0.1111111111111111,\"#46039f\"],[0.2222222222222222,\"#7201a8\"],[0.3333333333333333,\"#9c179e\"],[0.4444444444444444,\"#bd3786\"],[0.5555555555555556,\"#d8576b\"],[0.6666666666666666,\"#ed7953\"],[0.7777777777777778,\"#fb9f3a\"],[0.8888888888888888,\"#fdca26\"],[1.0,\"#f0f921\"]]}],\"surface\":[{\"type\":\"surface\",\"colorbar\":{\"outlinewidth\":0,\"ticks\":\"\"},\"colorscale\":[[0.0,\"#0d0887\"],[0.1111111111111111,\"#46039f\"],[0.2222222222222222,\"#7201a8\"],[0.3333333333333333,\"#9c179e\"],[0.4444444444444444,\"#bd3786\"],[0.5555555555555556,\"#d8576b\"],[0.6666666666666666,\"#ed7953\"],[0.7777777777777778,\"#fb9f3a\"],[0.8888888888888888,\"#fdca26\"],[1.0,\"#f0f921\"]]}],\"mesh3d\":[{\"type\":\"mesh3d\",\"colorbar\":{\"outlinewidth\":0,\"ticks\":\"\"}}],\"scatter\":[{\"fillpattern\":{\"fillmode\":\"overlay\",\"size\":10,\"solidity\":0.2},\"type\":\"scatter\"}],\"parcoords\":[{\"type\":\"parcoords\",\"line\":{\"colorbar\":{\"outlinewidth\":0,\"ticks\":\"\"}}}],\"scatterpolargl\":[{\"type\":\"scatterpolargl\",\"marker\":{\"colorbar\":{\"outlinewidth\":0,\"ticks\":\"\"}}}],\"bar\":[{\"error_x\":{\"color\":\"#2a3f5f\"},\"error_y\":{\"color\":\"#2a3f5f\"},\"marker\":{\"line\":{\"color\":\"#E5ECF6\",\"width\":0.5},\"pattern\":{\"fillmode\":\"overlay\",\"size\":10,\"solidity\":0.2}},\"type\":\"bar\"}],\"scattergeo\":[{\"type\":\"scattergeo\",\"marker\":{\"colorbar\":{\"outlinewidth\":0,\"ticks\":\"\"}}}],\"scatterpolar\":[{\"type\":\"scatterpolar\",\"marker\":{\"colorbar\":{\"outlinewidth\":0,\"ticks\":\"\"}}}],\"histogram\":[{\"marker\":{\"pattern\":{\"fillmode\":\"overlay\",\"size\":10,\"solidity\":0.2}},\"type\":\"histogram\"}],\"scattergl\":[{\"type\":\"scattergl\",\"marker\":{\"colorbar\":{\"outlinewidth\":0,\"ticks\":\"\"}}}],\"scatter3d\":[{\"type\":\"scatter3d\",\"line\":{\"colorbar\":{\"outlinewidth\":0,\"ticks\":\"\"}},\"marker\":{\"colorbar\":{\"outlinewidth\":0,\"ticks\":\"\"}}}],\"scattermapbox\":[{\"type\":\"scattermapbox\",\"marker\":{\"colorbar\":{\"outlinewidth\":0,\"ticks\":\"\"}}}],\"scatterternary\":[{\"type\":\"scatterternary\",\"marker\":{\"colorbar\":{\"outlinewidth\":0,\"ticks\":\"\"}}}],\"scattercarpet\":[{\"type\":\"scattercarpet\",\"marker\":{\"colorbar\":{\"outlinewidth\":0,\"ticks\":\"\"}}}],\"carpet\":[{\"aaxis\":{\"endlinecolor\":\"#2a3f5f\",\"gridcolor\":\"white\",\"linecolor\":\"white\",\"minorgridcolor\":\"white\",\"startlinecolor\":\"#2a3f5f\"},\"baxis\":{\"endlinecolor\":\"#2a3f5f\",\"gridcolor\":\"white\",\"linecolor\":\"white\",\"minorgridcolor\":\"white\",\"startlinecolor\":\"#2a3f5f\"},\"type\":\"carpet\"}],\"table\":[{\"cells\":{\"fill\":{\"color\":\"#EBF0F8\"},\"line\":{\"color\":\"white\"}},\"header\":{\"fill\":{\"color\":\"#C8D4E3\"},\"line\":{\"color\":\"white\"}},\"type\":\"table\"}],\"barpolar\":[{\"marker\":{\"line\":{\"color\":\"#E5ECF6\",\"width\":0.5},\"pattern\":{\"fillmode\":\"overlay\",\"size\":10,\"solidity\":0.2}},\"type\":\"barpolar\"}],\"pie\":[{\"automargin\":true,\"type\":\"pie\"}]},\"layout\":{\"autotypenumbers\":\"strict\",\"colorway\":[\"#636efa\",\"#EF553B\",\"#00cc96\",\"#ab63fa\",\"#FFA15A\",\"#19d3f3\",\"#FF6692\",\"#B6E880\",\"#FF97FF\",\"#FECB52\"],\"font\":{\"color\":\"#2a3f5f\"},\"hovermode\":\"closest\",\"hoverlabel\":{\"align\":\"left\"},\"paper_bgcolor\":\"white\",\"plot_bgcolor\":\"#E5ECF6\",\"polar\":{\"bgcolor\":\"#E5ECF6\",\"angularaxis\":{\"gridcolor\":\"white\",\"linecolor\":\"white\",\"ticks\":\"\"},\"radialaxis\":{\"gridcolor\":\"white\",\"linecolor\":\"white\",\"ticks\":\"\"}},\"ternary\":{\"bgcolor\":\"#E5ECF6\",\"aaxis\":{\"gridcolor\":\"white\",\"linecolor\":\"white\",\"ticks\":\"\"},\"baxis\":{\"gridcolor\":\"white\",\"linecolor\":\"white\",\"ticks\":\"\"},\"caxis\":{\"gridcolor\":\"white\",\"linecolor\":\"white\",\"ticks\":\"\"}},\"coloraxis\":{\"colorbar\":{\"outlinewidth\":0,\"ticks\":\"\"}},\"colorscale\":{\"sequential\":[[0.0,\"#0d0887\"],[0.1111111111111111,\"#46039f\"],[0.2222222222222222,\"#7201a8\"],[0.3333333333333333,\"#9c179e\"],[0.4444444444444444,\"#bd3786\"],[0.5555555555555556,\"#d8576b\"],[0.6666666666666666,\"#ed7953\"],[0.7777777777777778,\"#fb9f3a\"],[0.8888888888888888,\"#fdca26\"],[1.0,\"#f0f921\"]],\"sequentialminus\":[[0.0,\"#0d0887\"],[0.1111111111111111,\"#46039f\"],[0.2222222222222222,\"#7201a8\"],[0.3333333333333333,\"#9c179e\"],[0.4444444444444444,\"#bd3786\"],[0.5555555555555556,\"#d8576b\"],[0.6666666666666666,\"#ed7953\"],[0.7777777777777778,\"#fb9f3a\"],[0.8888888888888888,\"#fdca26\"],[1.0,\"#f0f921\"]],\"diverging\":[[0,\"#8e0152\"],[0.1,\"#c51b7d\"],[0.2,\"#de77ae\"],[0.3,\"#f1b6da\"],[0.4,\"#fde0ef\"],[0.5,\"#f7f7f7\"],[0.6,\"#e6f5d0\"],[0.7,\"#b8e186\"],[0.8,\"#7fbc41\"],[0.9,\"#4d9221\"],[1,\"#276419\"]]},\"xaxis\":{\"gridcolor\":\"white\",\"linecolor\":\"white\",\"ticks\":\"\",\"title\":{\"standoff\":15},\"zerolinecolor\":\"white\",\"automargin\":true,\"zerolinewidth\":2},\"yaxis\":{\"gridcolor\":\"white\",\"linecolor\":\"white\",\"ticks\":\"\",\"title\":{\"standoff\":15},\"zerolinecolor\":\"white\",\"automargin\":true,\"zerolinewidth\":2},\"scene\":{\"xaxis\":{\"backgroundcolor\":\"#E5ECF6\",\"gridcolor\":\"white\",\"linecolor\":\"white\",\"showbackground\":true,\"ticks\":\"\",\"zerolinecolor\":\"white\",\"gridwidth\":2},\"yaxis\":{\"backgroundcolor\":\"#E5ECF6\",\"gridcolor\":\"white\",\"linecolor\":\"white\",\"showbackground\":true,\"ticks\":\"\",\"zerolinecolor\":\"white\",\"gridwidth\":2},\"zaxis\":{\"backgroundcolor\":\"#E5ECF6\",\"gridcolor\":\"white\",\"linecolor\":\"white\",\"showbackground\":true,\"ticks\":\"\",\"zerolinecolor\":\"white\",\"gridwidth\":2}},\"shapedefaults\":{\"line\":{\"color\":\"#2a3f5f\"}},\"annotationdefaults\":{\"arrowcolor\":\"#2a3f5f\",\"arrowhead\":0,\"arrowwidth\":1},\"geo\":{\"bgcolor\":\"white\",\"landcolor\":\"#E5ECF6\",\"subunitcolor\":\"white\",\"showland\":true,\"showlakes\":true,\"lakecolor\":\"white\"},\"title\":{\"x\":0.05},\"mapbox\":{\"style\":\"light\"}}},\"legend\":{\"tracegroupgap\":0},\"margin\":{\"t\":60},\"height\":700,\"width\":700},                        {\"responsive\": true}                    ).then(function(){\n",
       "                            \n",
       "var gd = document.getElementById('f4ee33c6-0220-45d3-9bf2-dbefae834fa4');\n",
       "var x = new MutationObserver(function (mutations, observer) {{\n",
       "        var display = window.getComputedStyle(gd).display;\n",
       "        if (!display || display === 'none') {{\n",
       "            console.log([gd, 'removed!']);\n",
       "            Plotly.purge(gd);\n",
       "            observer.disconnect();\n",
       "        }}\n",
       "}});\n",
       "\n",
       "// Listen for the removal of the full notebook cells\n",
       "var notebookContainer = gd.closest('#notebook-container');\n",
       "if (notebookContainer) {{\n",
       "    x.observe(notebookContainer, {childList: true});\n",
       "}}\n",
       "\n",
       "// Listen for the clearing of the current output cell\n",
       "var outputEl = gd.closest('.output');\n",
       "if (outputEl) {{\n",
       "    x.observe(outputEl, {childList: true});\n",
       "}}\n",
       "\n",
       "                        })                };                });            </script>        </div>"
      ]
     },
     "metadata": {},
     "output_type": "display_data"
    }
   ],
   "source": [
    "import plotly.express as px\n",
    "import warnings\n",
    "warnings.filterwarnings('ignore')\n",
    "\n",
    "px.sunburst(temp,values='emissions',path=['region','segment'],color='region',width=700,height=700)\n"
   ]
  },
  {
   "cell_type": "code",
   "execution_count": 21,
   "id": "01648e8d",
   "metadata": {
    "execution": {
     "iopub.execute_input": "2023-03-31T05:18:46.932023Z",
     "iopub.status.busy": "2023-03-31T05:18:46.931616Z",
     "iopub.status.idle": "2023-03-31T05:18:46.940238Z",
     "shell.execute_reply": "2023-03-31T05:18:46.939107Z"
    },
    "papermill": {
     "duration": 0.03005,
     "end_time": "2023-03-31T05:18:46.942550",
     "exception": false,
     "start_time": "2023-03-31T05:18:46.912500",
     "status": "completed"
    },
    "tags": []
   },
   "outputs": [],
   "source": [
    "temp1=temp.groupby('segment').sum().reset_index()\n",
    "temp1.sort_values('emissions',ascending=False,inplace=True)"
   ]
  },
  {
   "cell_type": "code",
   "execution_count": 22,
   "id": "d3fabbcb",
   "metadata": {
    "execution": {
     "iopub.execute_input": "2023-03-31T05:18:46.980793Z",
     "iopub.status.busy": "2023-03-31T05:18:46.980103Z",
     "iopub.status.idle": "2023-03-31T05:18:47.123564Z",
     "shell.execute_reply": "2023-03-31T05:18:47.122488Z"
    },
    "papermill": {
     "duration": 0.16572,
     "end_time": "2023-03-31T05:18:47.126488",
     "exception": false,
     "start_time": "2023-03-31T05:18:46.960768",
     "status": "completed"
    },
    "tags": []
   },
   "outputs": [
    {
     "data": {
      "text/html": [
       "<div>                            <div id=\"d3f0bdaa-3469-4835-a38b-27489ca0bcf7\" class=\"plotly-graph-div\" style=\"height:525px; width:100%;\"></div>            <script type=\"text/javascript\">                require([\"plotly\"], function(Plotly) {                    window.PLOTLYENV=window.PLOTLYENV || {};                                    if (document.getElementById(\"d3f0bdaa-3469-4835-a38b-27489ca0bcf7\")) {                    Plotly.newPlot(                        \"d3f0bdaa-3469-4835-a38b-27489ca0bcf7\",                        [{\"alignmentgroup\":\"True\",\"hovertemplate\":\"segment=%{x}<br>Methane emission=%{y}<extra></extra>\",\"legendgroup\":\"Total\",\"marker\":{\"color\":\"#636efa\",\"pattern\":{\"shape\":\"\"}},\"name\":\"Total\",\"offsetgroup\":\"Total\",\"orientation\":\"v\",\"showlegend\":true,\"textposition\":\"auto\",\"x\":[\"Total\"],\"xaxis\":\"x\",\"y\":[268698.1575695118],\"yaxis\":\"y\",\"type\":\"bar\"},{\"alignmentgroup\":\"True\",\"hovertemplate\":\"segment=%{x}<br>Methane emission=%{y}<extra></extra>\",\"legendgroup\":\"Onshore oil\",\"marker\":{\"color\":\"#EF553B\",\"pattern\":{\"shape\":\"\"}},\"name\":\"Onshore oil\",\"offsetgroup\":\"Onshore oil\",\"orientation\":\"v\",\"showlegend\":true,\"textposition\":\"auto\",\"x\":[\"Onshore oil\"],\"xaxis\":\"x\",\"y\":[68564.74320124905],\"yaxis\":\"y\",\"type\":\"bar\"},{\"alignmentgroup\":\"True\",\"hovertemplate\":\"segment=%{x}<br>Methane emission=%{y}<extra></extra>\",\"legendgroup\":\"Steam coal\",\"marker\":{\"color\":\"#00cc96\",\"pattern\":{\"shape\":\"\"}},\"name\":\"Steam coal\",\"offsetgroup\":\"Steam coal\",\"orientation\":\"v\",\"showlegend\":true,\"textposition\":\"auto\",\"x\":[\"Steam coal\"],\"xaxis\":\"x\",\"y\":[60343.77334354073],\"yaxis\":\"y\",\"type\":\"bar\"},{\"alignmentgroup\":\"True\",\"hovertemplate\":\"segment=%{x}<br>Methane emission=%{y}<extra></extra>\",\"legendgroup\":\"Onshore gas\",\"marker\":{\"color\":\"#ab63fa\",\"pattern\":{\"shape\":\"\"}},\"name\":\"Onshore gas\",\"offsetgroup\":\"Onshore gas\",\"orientation\":\"v\",\"showlegend\":true,\"textposition\":\"auto\",\"x\":[\"Onshore gas\"],\"xaxis\":\"x\",\"y\":[36054.66739721806],\"yaxis\":\"y\",\"type\":\"bar\"},{\"alignmentgroup\":\"True\",\"hovertemplate\":\"segment=%{x}<br>Methane emission=%{y}<extra></extra>\",\"legendgroup\":\"Gas pipelines and LNG facilities\",\"marker\":{\"color\":\"#FFA15A\",\"pattern\":{\"shape\":\"\"}},\"name\":\"Gas pipelines and LNG facilities\",\"offsetgroup\":\"Gas pipelines and LNG facilities\",\"orientation\":\"v\",\"showlegend\":true,\"textposition\":\"auto\",\"x\":[\"Gas pipelines and LNG facilities\"],\"xaxis\":\"x\",\"y\":[24600.643844261765],\"yaxis\":\"y\",\"type\":\"bar\"},{\"alignmentgroup\":\"True\",\"hovertemplate\":\"segment=%{x}<br>Methane emission=%{y}<extra></extra>\",\"legendgroup\":\"Coking coal\",\"marker\":{\"color\":\"#19d3f3\",\"pattern\":{\"shape\":\"\"}},\"name\":\"Coking coal\",\"offsetgroup\":\"Coking coal\",\"orientation\":\"v\",\"showlegend\":true,\"textposition\":\"auto\",\"x\":[\"Coking coal\"],\"xaxis\":\"x\",\"y\":[20323.058074355125],\"yaxis\":\"y\",\"type\":\"bar\"},{\"alignmentgroup\":\"True\",\"hovertemplate\":\"segment=%{x}<br>Methane emission=%{y}<extra></extra>\",\"legendgroup\":\"Bioenergy\",\"marker\":{\"color\":\"#FF6692\",\"pattern\":{\"shape\":\"\"}},\"name\":\"Bioenergy\",\"offsetgroup\":\"Bioenergy\",\"orientation\":\"v\",\"showlegend\":true,\"textposition\":\"auto\",\"x\":[\"Bioenergy\"],\"xaxis\":\"x\",\"y\":[19134.448076667264],\"yaxis\":\"y\",\"type\":\"bar\"},{\"alignmentgroup\":\"True\",\"hovertemplate\":\"segment=%{x}<br>Methane emission=%{y}<extra></extra>\",\"legendgroup\":\"Offshore oil\",\"marker\":{\"color\":\"#B6E880\",\"pattern\":{\"shape\":\"\"}},\"name\":\"Offshore oil\",\"offsetgroup\":\"Offshore oil\",\"orientation\":\"v\",\"showlegend\":true,\"textposition\":\"auto\",\"x\":[\"Offshore oil\"],\"xaxis\":\"x\",\"y\":[16778.74973843299],\"yaxis\":\"y\",\"type\":\"bar\"},{\"alignmentgroup\":\"True\",\"hovertemplate\":\"segment=%{x}<br>Methane emission=%{y}<extra></extra>\",\"legendgroup\":\"Offshore gas\",\"marker\":{\"color\":\"#FF97FF\",\"pattern\":{\"shape\":\"\"}},\"name\":\"Offshore gas\",\"offsetgroup\":\"Offshore gas\",\"orientation\":\"v\",\"showlegend\":true,\"textposition\":\"auto\",\"x\":[\"Offshore gas\"],\"xaxis\":\"x\",\"y\":[8685.836718329228],\"yaxis\":\"y\",\"type\":\"bar\"},{\"alignmentgroup\":\"True\",\"hovertemplate\":\"segment=%{x}<br>Methane emission=%{y}<extra></extra>\",\"legendgroup\":\"Satellite-detected large oil and gas emissions\",\"marker\":{\"color\":\"#FECB52\",\"pattern\":{\"shape\":\"\"}},\"name\":\"Satellite-detected large oil and gas emissions\",\"offsetgroup\":\"Satellite-detected large oil and gas emissions\",\"orientation\":\"v\",\"showlegend\":true,\"textposition\":\"auto\",\"x\":[\"Satellite-detected large oil and gas emissions\"],\"xaxis\":\"x\",\"y\":[6208.900006651878],\"yaxis\":\"y\",\"type\":\"bar\"},{\"alignmentgroup\":\"True\",\"hovertemplate\":\"segment=%{x}<br>Methane emission=%{y}<extra></extra>\",\"legendgroup\":\"Other from oil and gas\",\"marker\":{\"color\":\"#636efa\",\"pattern\":{\"shape\":\"\"}},\"name\":\"Other from oil and gas\",\"offsetgroup\":\"Other from oil and gas\",\"orientation\":\"v\",\"showlegend\":true,\"textposition\":\"auto\",\"x\":[\"Other from oil and gas\"],\"xaxis\":\"x\",\"y\":[4785.509485858027],\"yaxis\":\"y\",\"type\":\"bar\"},{\"alignmentgroup\":\"True\",\"hovertemplate\":\"segment=%{x}<br>Methane emission=%{y}<extra></extra>\",\"legendgroup\":\"Other from coal\",\"marker\":{\"color\":\"#EF553B\",\"pattern\":{\"shape\":\"\"}},\"name\":\"Other from coal\",\"offsetgroup\":\"Other from coal\",\"orientation\":\"v\",\"showlegend\":true,\"textposition\":\"auto\",\"x\":[\"Other from coal\"],\"xaxis\":\"x\",\"y\":[3217.8240700140595],\"yaxis\":\"y\",\"type\":\"bar\"}],                        {\"template\":{\"data\":{\"histogram2dcontour\":[{\"type\":\"histogram2dcontour\",\"colorbar\":{\"outlinewidth\":0,\"ticks\":\"\"},\"colorscale\":[[0.0,\"#0d0887\"],[0.1111111111111111,\"#46039f\"],[0.2222222222222222,\"#7201a8\"],[0.3333333333333333,\"#9c179e\"],[0.4444444444444444,\"#bd3786\"],[0.5555555555555556,\"#d8576b\"],[0.6666666666666666,\"#ed7953\"],[0.7777777777777778,\"#fb9f3a\"],[0.8888888888888888,\"#fdca26\"],[1.0,\"#f0f921\"]]}],\"choropleth\":[{\"type\":\"choropleth\",\"colorbar\":{\"outlinewidth\":0,\"ticks\":\"\"}}],\"histogram2d\":[{\"type\":\"histogram2d\",\"colorbar\":{\"outlinewidth\":0,\"ticks\":\"\"},\"colorscale\":[[0.0,\"#0d0887\"],[0.1111111111111111,\"#46039f\"],[0.2222222222222222,\"#7201a8\"],[0.3333333333333333,\"#9c179e\"],[0.4444444444444444,\"#bd3786\"],[0.5555555555555556,\"#d8576b\"],[0.6666666666666666,\"#ed7953\"],[0.7777777777777778,\"#fb9f3a\"],[0.8888888888888888,\"#fdca26\"],[1.0,\"#f0f921\"]]}],\"heatmap\":[{\"type\":\"heatmap\",\"colorbar\":{\"outlinewidth\":0,\"ticks\":\"\"},\"colorscale\":[[0.0,\"#0d0887\"],[0.1111111111111111,\"#46039f\"],[0.2222222222222222,\"#7201a8\"],[0.3333333333333333,\"#9c179e\"],[0.4444444444444444,\"#bd3786\"],[0.5555555555555556,\"#d8576b\"],[0.6666666666666666,\"#ed7953\"],[0.7777777777777778,\"#fb9f3a\"],[0.8888888888888888,\"#fdca26\"],[1.0,\"#f0f921\"]]}],\"heatmapgl\":[{\"type\":\"heatmapgl\",\"colorbar\":{\"outlinewidth\":0,\"ticks\":\"\"},\"colorscale\":[[0.0,\"#0d0887\"],[0.1111111111111111,\"#46039f\"],[0.2222222222222222,\"#7201a8\"],[0.3333333333333333,\"#9c179e\"],[0.4444444444444444,\"#bd3786\"],[0.5555555555555556,\"#d8576b\"],[0.6666666666666666,\"#ed7953\"],[0.7777777777777778,\"#fb9f3a\"],[0.8888888888888888,\"#fdca26\"],[1.0,\"#f0f921\"]]}],\"contourcarpet\":[{\"type\":\"contourcarpet\",\"colorbar\":{\"outlinewidth\":0,\"ticks\":\"\"}}],\"contour\":[{\"type\":\"contour\",\"colorbar\":{\"outlinewidth\":0,\"ticks\":\"\"},\"colorscale\":[[0.0,\"#0d0887\"],[0.1111111111111111,\"#46039f\"],[0.2222222222222222,\"#7201a8\"],[0.3333333333333333,\"#9c179e\"],[0.4444444444444444,\"#bd3786\"],[0.5555555555555556,\"#d8576b\"],[0.6666666666666666,\"#ed7953\"],[0.7777777777777778,\"#fb9f3a\"],[0.8888888888888888,\"#fdca26\"],[1.0,\"#f0f921\"]]}],\"surface\":[{\"type\":\"surface\",\"colorbar\":{\"outlinewidth\":0,\"ticks\":\"\"},\"colorscale\":[[0.0,\"#0d0887\"],[0.1111111111111111,\"#46039f\"],[0.2222222222222222,\"#7201a8\"],[0.3333333333333333,\"#9c179e\"],[0.4444444444444444,\"#bd3786\"],[0.5555555555555556,\"#d8576b\"],[0.6666666666666666,\"#ed7953\"],[0.7777777777777778,\"#fb9f3a\"],[0.8888888888888888,\"#fdca26\"],[1.0,\"#f0f921\"]]}],\"mesh3d\":[{\"type\":\"mesh3d\",\"colorbar\":{\"outlinewidth\":0,\"ticks\":\"\"}}],\"scatter\":[{\"fillpattern\":{\"fillmode\":\"overlay\",\"size\":10,\"solidity\":0.2},\"type\":\"scatter\"}],\"parcoords\":[{\"type\":\"parcoords\",\"line\":{\"colorbar\":{\"outlinewidth\":0,\"ticks\":\"\"}}}],\"scatterpolargl\":[{\"type\":\"scatterpolargl\",\"marker\":{\"colorbar\":{\"outlinewidth\":0,\"ticks\":\"\"}}}],\"bar\":[{\"error_x\":{\"color\":\"#2a3f5f\"},\"error_y\":{\"color\":\"#2a3f5f\"},\"marker\":{\"line\":{\"color\":\"#E5ECF6\",\"width\":0.5},\"pattern\":{\"fillmode\":\"overlay\",\"size\":10,\"solidity\":0.2}},\"type\":\"bar\"}],\"scattergeo\":[{\"type\":\"scattergeo\",\"marker\":{\"colorbar\":{\"outlinewidth\":0,\"ticks\":\"\"}}}],\"scatterpolar\":[{\"type\":\"scatterpolar\",\"marker\":{\"colorbar\":{\"outlinewidth\":0,\"ticks\":\"\"}}}],\"histogram\":[{\"marker\":{\"pattern\":{\"fillmode\":\"overlay\",\"size\":10,\"solidity\":0.2}},\"type\":\"histogram\"}],\"scattergl\":[{\"type\":\"scattergl\",\"marker\":{\"colorbar\":{\"outlinewidth\":0,\"ticks\":\"\"}}}],\"scatter3d\":[{\"type\":\"scatter3d\",\"line\":{\"colorbar\":{\"outlinewidth\":0,\"ticks\":\"\"}},\"marker\":{\"colorbar\":{\"outlinewidth\":0,\"ticks\":\"\"}}}],\"scattermapbox\":[{\"type\":\"scattermapbox\",\"marker\":{\"colorbar\":{\"outlinewidth\":0,\"ticks\":\"\"}}}],\"scatterternary\":[{\"type\":\"scatterternary\",\"marker\":{\"colorbar\":{\"outlinewidth\":0,\"ticks\":\"\"}}}],\"scattercarpet\":[{\"type\":\"scattercarpet\",\"marker\":{\"colorbar\":{\"outlinewidth\":0,\"ticks\":\"\"}}}],\"carpet\":[{\"aaxis\":{\"endlinecolor\":\"#2a3f5f\",\"gridcolor\":\"white\",\"linecolor\":\"white\",\"minorgridcolor\":\"white\",\"startlinecolor\":\"#2a3f5f\"},\"baxis\":{\"endlinecolor\":\"#2a3f5f\",\"gridcolor\":\"white\",\"linecolor\":\"white\",\"minorgridcolor\":\"white\",\"startlinecolor\":\"#2a3f5f\"},\"type\":\"carpet\"}],\"table\":[{\"cells\":{\"fill\":{\"color\":\"#EBF0F8\"},\"line\":{\"color\":\"white\"}},\"header\":{\"fill\":{\"color\":\"#C8D4E3\"},\"line\":{\"color\":\"white\"}},\"type\":\"table\"}],\"barpolar\":[{\"marker\":{\"line\":{\"color\":\"#E5ECF6\",\"width\":0.5},\"pattern\":{\"fillmode\":\"overlay\",\"size\":10,\"solidity\":0.2}},\"type\":\"barpolar\"}],\"pie\":[{\"automargin\":true,\"type\":\"pie\"}]},\"layout\":{\"autotypenumbers\":\"strict\",\"colorway\":[\"#636efa\",\"#EF553B\",\"#00cc96\",\"#ab63fa\",\"#FFA15A\",\"#19d3f3\",\"#FF6692\",\"#B6E880\",\"#FF97FF\",\"#FECB52\"],\"font\":{\"color\":\"#2a3f5f\"},\"hovermode\":\"closest\",\"hoverlabel\":{\"align\":\"left\"},\"paper_bgcolor\":\"white\",\"plot_bgcolor\":\"#E5ECF6\",\"polar\":{\"bgcolor\":\"#E5ECF6\",\"angularaxis\":{\"gridcolor\":\"white\",\"linecolor\":\"white\",\"ticks\":\"\"},\"radialaxis\":{\"gridcolor\":\"white\",\"linecolor\":\"white\",\"ticks\":\"\"}},\"ternary\":{\"bgcolor\":\"#E5ECF6\",\"aaxis\":{\"gridcolor\":\"white\",\"linecolor\":\"white\",\"ticks\":\"\"},\"baxis\":{\"gridcolor\":\"white\",\"linecolor\":\"white\",\"ticks\":\"\"},\"caxis\":{\"gridcolor\":\"white\",\"linecolor\":\"white\",\"ticks\":\"\"}},\"coloraxis\":{\"colorbar\":{\"outlinewidth\":0,\"ticks\":\"\"}},\"colorscale\":{\"sequential\":[[0.0,\"#0d0887\"],[0.1111111111111111,\"#46039f\"],[0.2222222222222222,\"#7201a8\"],[0.3333333333333333,\"#9c179e\"],[0.4444444444444444,\"#bd3786\"],[0.5555555555555556,\"#d8576b\"],[0.6666666666666666,\"#ed7953\"],[0.7777777777777778,\"#fb9f3a\"],[0.8888888888888888,\"#fdca26\"],[1.0,\"#f0f921\"]],\"sequentialminus\":[[0.0,\"#0d0887\"],[0.1111111111111111,\"#46039f\"],[0.2222222222222222,\"#7201a8\"],[0.3333333333333333,\"#9c179e\"],[0.4444444444444444,\"#bd3786\"],[0.5555555555555556,\"#d8576b\"],[0.6666666666666666,\"#ed7953\"],[0.7777777777777778,\"#fb9f3a\"],[0.8888888888888888,\"#fdca26\"],[1.0,\"#f0f921\"]],\"diverging\":[[0,\"#8e0152\"],[0.1,\"#c51b7d\"],[0.2,\"#de77ae\"],[0.3,\"#f1b6da\"],[0.4,\"#fde0ef\"],[0.5,\"#f7f7f7\"],[0.6,\"#e6f5d0\"],[0.7,\"#b8e186\"],[0.8,\"#7fbc41\"],[0.9,\"#4d9221\"],[1,\"#276419\"]]},\"xaxis\":{\"gridcolor\":\"white\",\"linecolor\":\"white\",\"ticks\":\"\",\"title\":{\"standoff\":15},\"zerolinecolor\":\"white\",\"automargin\":true,\"zerolinewidth\":2},\"yaxis\":{\"gridcolor\":\"white\",\"linecolor\":\"white\",\"ticks\":\"\",\"title\":{\"standoff\":15},\"zerolinecolor\":\"white\",\"automargin\":true,\"zerolinewidth\":2},\"scene\":{\"xaxis\":{\"backgroundcolor\":\"#E5ECF6\",\"gridcolor\":\"white\",\"linecolor\":\"white\",\"showbackground\":true,\"ticks\":\"\",\"zerolinecolor\":\"white\",\"gridwidth\":2},\"yaxis\":{\"backgroundcolor\":\"#E5ECF6\",\"gridcolor\":\"white\",\"linecolor\":\"white\",\"showbackground\":true,\"ticks\":\"\",\"zerolinecolor\":\"white\",\"gridwidth\":2},\"zaxis\":{\"backgroundcolor\":\"#E5ECF6\",\"gridcolor\":\"white\",\"linecolor\":\"white\",\"showbackground\":true,\"ticks\":\"\",\"zerolinecolor\":\"white\",\"gridwidth\":2}},\"shapedefaults\":{\"line\":{\"color\":\"#2a3f5f\"}},\"annotationdefaults\":{\"arrowcolor\":\"#2a3f5f\",\"arrowhead\":0,\"arrowwidth\":1},\"geo\":{\"bgcolor\":\"white\",\"landcolor\":\"#E5ECF6\",\"subunitcolor\":\"white\",\"showland\":true,\"showlakes\":true,\"lakecolor\":\"white\"},\"title\":{\"x\":0.05},\"mapbox\":{\"style\":\"light\"}}},\"xaxis\":{\"anchor\":\"y\",\"domain\":[0.0,1.0],\"title\":{\"text\":\"segment\"},\"categoryorder\":\"array\",\"categoryarray\":[\"Total\",\"Onshore oil\",\"Steam coal\",\"Onshore gas\",\"Gas pipelines and LNG facilities\",\"Coking coal\",\"Bioenergy\",\"Offshore oil\",\"Offshore gas\",\"Satellite-detected large oil and gas emissions\",\"Other from oil and gas\",\"Other from coal\"]},\"yaxis\":{\"anchor\":\"x\",\"domain\":[0.0,1.0],\"title\":{\"text\":\"Methane emission\"}},\"legend\":{\"title\":{\"text\":\"segment\"},\"tracegroupgap\":0},\"margin\":{\"t\":60},\"barmode\":\"relative\"},                        {\"responsive\": true}                    ).then(function(){\n",
       "                            \n",
       "var gd = document.getElementById('d3f0bdaa-3469-4835-a38b-27489ca0bcf7');\n",
       "var x = new MutationObserver(function (mutations, observer) {{\n",
       "        var display = window.getComputedStyle(gd).display;\n",
       "        if (!display || display === 'none') {{\n",
       "            console.log([gd, 'removed!']);\n",
       "            Plotly.purge(gd);\n",
       "            observer.disconnect();\n",
       "        }}\n",
       "}});\n",
       "\n",
       "// Listen for the removal of the full notebook cells\n",
       "var notebookContainer = gd.closest('#notebook-container');\n",
       "if (notebookContainer) {{\n",
       "    x.observe(notebookContainer, {childList: true});\n",
       "}}\n",
       "\n",
       "// Listen for the clearing of the current output cell\n",
       "var outputEl = gd.closest('.output');\n",
       "if (outputEl) {{\n",
       "    x.observe(outputEl, {childList: true});\n",
       "}}\n",
       "\n",
       "                        })                };                });            </script>        </div>"
      ]
     },
     "metadata": {},
     "output_type": "display_data"
    }
   ],
   "source": [
    "# Segment vs Emissions\n",
    "px.bar(temp1,x='segment',y='emissions',color='segment',labels={'emissions':'Methane emission'})"
   ]
  },
  {
   "cell_type": "code",
   "execution_count": 23,
   "id": "93171f40",
   "metadata": {
    "execution": {
     "iopub.execute_input": "2023-03-31T05:18:47.164106Z",
     "iopub.status.busy": "2023-03-31T05:18:47.163697Z",
     "iopub.status.idle": "2023-03-31T05:18:47.185671Z",
     "shell.execute_reply": "2023-03-31T05:18:47.184560Z"
    },
    "papermill": {
     "duration": 0.043605,
     "end_time": "2023-03-31T05:18:47.188159",
     "exception": false,
     "start_time": "2023-03-31T05:18:47.144554",
     "status": "completed"
    },
    "tags": []
   },
   "outputs": [
    {
     "data": {
      "text/html": [
       "<div>\n",
       "<style scoped>\n",
       "    .dataframe tbody tr th:only-of-type {\n",
       "        vertical-align: middle;\n",
       "    }\n",
       "\n",
       "    .dataframe tbody tr th {\n",
       "        vertical-align: top;\n",
       "    }\n",
       "\n",
       "    .dataframe thead th {\n",
       "        text-align: right;\n",
       "    }\n",
       "</style>\n",
       "<table border=\"1\" class=\"dataframe\">\n",
       "  <thead>\n",
       "    <tr style=\"text-align: right;\">\n",
       "      <th></th>\n",
       "      <th>region</th>\n",
       "      <th>country</th>\n",
       "      <th>emissions</th>\n",
       "      <th>type</th>\n",
       "      <th>segment</th>\n",
       "      <th>reason</th>\n",
       "      <th>baseYear</th>\n",
       "      <th>notes</th>\n",
       "    </tr>\n",
       "  </thead>\n",
       "  <tbody>\n",
       "    <tr>\n",
       "      <th>0</th>\n",
       "      <td>Africa</td>\n",
       "      <td>Algeria</td>\n",
       "      <td>257.611206</td>\n",
       "      <td>Agriculture</td>\n",
       "      <td>Total</td>\n",
       "      <td>All</td>\n",
       "      <td>2019-2021</td>\n",
       "      <td>Average based on United Nations Framework Conv...</td>\n",
       "    </tr>\n",
       "    <tr>\n",
       "      <th>1</th>\n",
       "      <td>Africa</td>\n",
       "      <td>Algeria</td>\n",
       "      <td>0.052000</td>\n",
       "      <td>Energy</td>\n",
       "      <td>Bioenergy</td>\n",
       "      <td>All</td>\n",
       "      <td>2022</td>\n",
       "      <td>Estimates from end-uses are for 2020 or 2021 (...</td>\n",
       "    </tr>\n",
       "    <tr>\n",
       "      <th>2</th>\n",
       "      <td>Africa</td>\n",
       "      <td>Algeria</td>\n",
       "      <td>130.798996</td>\n",
       "      <td>Energy</td>\n",
       "      <td>Gas pipelines and LNG facilities</td>\n",
       "      <td>Fugitive</td>\n",
       "      <td>2022</td>\n",
       "      <td>Not available</td>\n",
       "    </tr>\n",
       "    <tr>\n",
       "      <th>3</th>\n",
       "      <td>Africa</td>\n",
       "      <td>Algeria</td>\n",
       "      <td>69.741898</td>\n",
       "      <td>Energy</td>\n",
       "      <td>Gas pipelines and LNG facilities</td>\n",
       "      <td>Vented</td>\n",
       "      <td>2022</td>\n",
       "      <td>Not available</td>\n",
       "    </tr>\n",
       "    <tr>\n",
       "      <th>4</th>\n",
       "      <td>Africa</td>\n",
       "      <td>Algeria</td>\n",
       "      <td>213.987000</td>\n",
       "      <td>Energy</td>\n",
       "      <td>Onshore gas</td>\n",
       "      <td>Fugitive</td>\n",
       "      <td>2022</td>\n",
       "      <td>Not available</td>\n",
       "    </tr>\n",
       "    <tr>\n",
       "      <th>...</th>\n",
       "      <td>...</td>\n",
       "      <td>...</td>\n",
       "      <td>...</td>\n",
       "      <td>...</td>\n",
       "      <td>...</td>\n",
       "      <td>...</td>\n",
       "      <td>...</td>\n",
       "      <td>...</td>\n",
       "    </tr>\n",
       "    <tr>\n",
       "      <th>1521</th>\n",
       "      <td>Russia &amp; Caspian</td>\n",
       "      <td>Uzbekistan</td>\n",
       "      <td>16.973917</td>\n",
       "      <td>Energy</td>\n",
       "      <td>Other from oil and gas</td>\n",
       "      <td>All</td>\n",
       "      <td>2022</td>\n",
       "      <td>Estimates from end-uses are for 2020 or 2021 (...</td>\n",
       "    </tr>\n",
       "    <tr>\n",
       "      <th>1522</th>\n",
       "      <td>Russia &amp; Caspian</td>\n",
       "      <td>Uzbekistan</td>\n",
       "      <td>18.299999</td>\n",
       "      <td>Energy</td>\n",
       "      <td>Satellite-detected large oil and gas emissions</td>\n",
       "      <td>All</td>\n",
       "      <td>2022</td>\n",
       "      <td>Not available</td>\n",
       "    </tr>\n",
       "    <tr>\n",
       "      <th>1523</th>\n",
       "      <td>Russia &amp; Caspian</td>\n",
       "      <td>Uzbekistan</td>\n",
       "      <td>780.916138</td>\n",
       "      <td>Energy</td>\n",
       "      <td>Total</td>\n",
       "      <td>All</td>\n",
       "      <td>2022</td>\n",
       "      <td>Estimates from end-uses are for 2020 or 2021 (...</td>\n",
       "    </tr>\n",
       "    <tr>\n",
       "      <th>1524</th>\n",
       "      <td>Russia &amp; Caspian</td>\n",
       "      <td>Uzbekistan</td>\n",
       "      <td>3.845616</td>\n",
       "      <td>Other</td>\n",
       "      <td>Total</td>\n",
       "      <td>All</td>\n",
       "      <td>2019-2021</td>\n",
       "      <td>Average based on United Nations Framework Conv...</td>\n",
       "    </tr>\n",
       "    <tr>\n",
       "      <th>1525</th>\n",
       "      <td>Russia &amp; Caspian</td>\n",
       "      <td>Uzbekistan</td>\n",
       "      <td>280.418243</td>\n",
       "      <td>Waste</td>\n",
       "      <td>Total</td>\n",
       "      <td>All</td>\n",
       "      <td>2019-2021</td>\n",
       "      <td>Average based on United Nations Framework Conv...</td>\n",
       "    </tr>\n",
       "  </tbody>\n",
       "</table>\n",
       "<p>1526 rows × 8 columns</p>\n",
       "</div>"
      ],
      "text/plain": [
       "                region     country   emissions         type  \\\n",
       "0               Africa     Algeria  257.611206  Agriculture   \n",
       "1               Africa     Algeria    0.052000       Energy   \n",
       "2               Africa     Algeria  130.798996       Energy   \n",
       "3               Africa     Algeria   69.741898       Energy   \n",
       "4               Africa     Algeria  213.987000       Energy   \n",
       "...                ...         ...         ...          ...   \n",
       "1521  Russia & Caspian  Uzbekistan   16.973917       Energy   \n",
       "1522  Russia & Caspian  Uzbekistan   18.299999       Energy   \n",
       "1523  Russia & Caspian  Uzbekistan  780.916138       Energy   \n",
       "1524  Russia & Caspian  Uzbekistan    3.845616        Other   \n",
       "1525  Russia & Caspian  Uzbekistan  280.418243        Waste   \n",
       "\n",
       "                                             segment    reason   baseYear  \\\n",
       "0                                              Total       All  2019-2021   \n",
       "1                                          Bioenergy       All       2022   \n",
       "2                   Gas pipelines and LNG facilities  Fugitive       2022   \n",
       "3                   Gas pipelines and LNG facilities    Vented       2022   \n",
       "4                                        Onshore gas  Fugitive       2022   \n",
       "...                                              ...       ...        ...   \n",
       "1521                          Other from oil and gas       All       2022   \n",
       "1522  Satellite-detected large oil and gas emissions       All       2022   \n",
       "1523                                           Total       All       2022   \n",
       "1524                                           Total       All  2019-2021   \n",
       "1525                                           Total       All  2019-2021   \n",
       "\n",
       "                                                  notes  \n",
       "0     Average based on United Nations Framework Conv...  \n",
       "1     Estimates from end-uses are for 2020 or 2021 (...  \n",
       "2                                         Not available  \n",
       "3                                         Not available  \n",
       "4                                         Not available  \n",
       "...                                                 ...  \n",
       "1521  Estimates from end-uses are for 2020 or 2021 (...  \n",
       "1522                                      Not available  \n",
       "1523  Estimates from end-uses are for 2020 or 2021 (...  \n",
       "1524  Average based on United Nations Framework Conv...  \n",
       "1525  Average based on United Nations Framework Conv...  \n",
       "\n",
       "[1526 rows x 8 columns]"
      ]
     },
     "execution_count": 23,
     "metadata": {},
     "output_type": "execute_result"
    }
   ],
   "source": [
    "temp2=df[df['country']!='World']\n",
    "temp2"
   ]
  },
  {
   "cell_type": "code",
   "execution_count": 24,
   "id": "9921f2e1",
   "metadata": {
    "execution": {
     "iopub.execute_input": "2023-03-31T05:18:47.227038Z",
     "iopub.status.busy": "2023-03-31T05:18:47.226614Z",
     "iopub.status.idle": "2023-03-31T05:18:47.242768Z",
     "shell.execute_reply": "2023-03-31T05:18:47.241571Z"
    },
    "papermill": {
     "duration": 0.038597,
     "end_time": "2023-03-31T05:18:47.245142",
     "exception": false,
     "start_time": "2023-03-31T05:18:47.206545",
     "status": "completed"
    },
    "tags": []
   },
   "outputs": [
    {
     "data": {
      "text/html": [
       "<div>\n",
       "<style scoped>\n",
       "    .dataframe tbody tr th:only-of-type {\n",
       "        vertical-align: middle;\n",
       "    }\n",
       "\n",
       "    .dataframe tbody tr th {\n",
       "        vertical-align: top;\n",
       "    }\n",
       "\n",
       "    .dataframe thead th {\n",
       "        text-align: right;\n",
       "    }\n",
       "</style>\n",
       "<table border=\"1\" class=\"dataframe\">\n",
       "  <thead>\n",
       "    <tr style=\"text-align: right;\">\n",
       "      <th></th>\n",
       "      <th>type</th>\n",
       "      <th>emissions</th>\n",
       "    </tr>\n",
       "  </thead>\n",
       "  <tbody>\n",
       "    <tr>\n",
       "      <th>0</th>\n",
       "      <td>Agriculture</td>\n",
       "      <td>150805.103144</td>\n",
       "    </tr>\n",
       "    <tr>\n",
       "      <th>1</th>\n",
       "      <td>Energy</td>\n",
       "      <td>135347.173195</td>\n",
       "    </tr>\n",
       "    <tr>\n",
       "      <th>2</th>\n",
       "      <td>Other</td>\n",
       "      <td>10028.772862</td>\n",
       "    </tr>\n",
       "    <tr>\n",
       "      <th>3</th>\n",
       "      <td>Waste</td>\n",
       "      <td>75079.707008</td>\n",
       "    </tr>\n",
       "  </tbody>\n",
       "</table>\n",
       "</div>"
      ],
      "text/plain": [
       "          type      emissions\n",
       "0  Agriculture  150805.103144\n",
       "1       Energy  135347.173195\n",
       "2        Other   10028.772862\n",
       "3        Waste   75079.707008"
      ]
     },
     "execution_count": 24,
     "metadata": {},
     "output_type": "execute_result"
    }
   ],
   "source": [
    "temp2=df.loc[np.where((temp2['segment']=='Total'))]\n",
    "temp2.groupby('type').sum().reset_index()"
   ]
  },
  {
   "cell_type": "markdown",
   "id": "656c6112",
   "metadata": {
    "papermill": {
     "duration": 0.017799,
     "end_time": "2023-03-31T05:18:47.281178",
     "exception": false,
     "start_time": "2023-03-31T05:18:47.263379",
     "status": "completed"
    },
    "tags": []
   },
   "source": [
    "# Emission vs Type analysis"
   ]
  },
  {
   "cell_type": "code",
   "execution_count": 25,
   "id": "7e825d96",
   "metadata": {
    "execution": {
     "iopub.execute_input": "2023-03-31T05:18:47.319470Z",
     "iopub.status.busy": "2023-03-31T05:18:47.319007Z",
     "iopub.status.idle": "2023-03-31T05:18:47.389726Z",
     "shell.execute_reply": "2023-03-31T05:18:47.388668Z"
    },
    "papermill": {
     "duration": 0.092804,
     "end_time": "2023-03-31T05:18:47.392125",
     "exception": false,
     "start_time": "2023-03-31T05:18:47.299321",
     "status": "completed"
    },
    "tags": []
   },
   "outputs": [
    {
     "data": {
      "text/html": [
       "<div>                            <div id=\"a0f10102-97bc-4944-98e8-19a833c6a5f8\" class=\"plotly-graph-div\" style=\"height:525px; width:100%;\"></div>            <script type=\"text/javascript\">                require([\"plotly\"], function(Plotly) {                    window.PLOTLYENV=window.PLOTLYENV || {};                                    if (document.getElementById(\"a0f10102-97bc-4944-98e8-19a833c6a5f8\")) {                    Plotly.newPlot(                        \"a0f10102-97bc-4944-98e8-19a833c6a5f8\",                        [{\"domain\":{\"x\":[0.0,1.0],\"y\":[0.0,1.0]},\"hole\":0.5,\"hovertemplate\":\"type=%{label}<br>emissions=%{value}<extra></extra>\",\"labels\":[\"Agriculture\",\"Energy\",\"Other\",\"Waste\",\"Agriculture\",\"Energy\",\"Other\",\"Waste\",\"Agriculture\",\"Energy\",\"Other\",\"Waste\",\"Agriculture\",\"Energy\",\"Other\",\"Waste\",\"Agriculture\",\"Energy\",\"Other\",\"Waste\",\"Agriculture\",\"Other\",\"Waste\",\"Agriculture\",\"Energy\",\"Other\",\"Waste\",\"Agriculture\",\"Energy\",\"Other\",\"Waste\",\"Agriculture\",\"Energy\",\"Other\",\"Waste\",\"Agriculture\",\"Energy\",\"Other\",\"Waste\",\"Agriculture\",\"Energy\",\"Other\",\"Waste\",\"Agriculture\",\"Energy\",\"Other\",\"Waste\",\"Agriculture\",\"Energy\",\"Other\",\"Waste\",\"Agriculture\",\"Energy\",\"Other\",\"Waste\",\"Agriculture\",\"Energy\",\"Other\",\"Waste\",\"Agriculture\",\"Other\",\"Waste\",\"Agriculture\",\"Energy\",\"Other\",\"Waste\",\"Agriculture\",\"Energy\",\"Other\",\"Waste\",\"Agriculture\",\"Other\",\"Waste\",\"Agriculture\",\"Energy\",\"Other\",\"Waste\",\"Agriculture\",\"Other\",\"Waste\",\"Agriculture\",\"Energy\",\"Other\",\"Waste\",\"Agriculture\",\"Energy\",\"Other\",\"Waste\",\"Agriculture\",\"Energy\",\"Other\",\"Waste\",\"Agriculture\",\"Energy\",\"Other\",\"Waste\",\"Agriculture\",\"Energy\",\"Other\",\"Waste\",\"Agriculture\",\"Energy\",\"Other\",\"Waste\",\"Agriculture\",\"Energy\",\"Other\",\"Waste\",\"Agriculture\",\"Other\",\"Waste\",\"Agriculture\",\"Other\",\"Waste\",\"Agriculture\",\"Energy\",\"Other\",\"Waste\",\"Agriculture\",\"Energy\",\"Other\",\"Waste\",\"Agriculture\",\"Energy\",\"Other\",\"Waste\",\"Agriculture\",\"Energy\",\"Other\",\"Waste\",\"Agriculture\",\"Energy\",\"Other\",\"Waste\",\"Agriculture\",\"Energy\",\"Other\",\"Waste\",\"Agriculture\",\"Energy\",\"Other\",\"Waste\",\"Agriculture\",\"Energy\",\"Other\",\"Waste\",\"Agriculture\",\"Energy\",\"Other\",\"Waste\",\"Agriculture\",\"Energy\",\"Other\",\"Waste\",\"Agriculture\",\"Energy\",\"Other\",\"Waste\",\"Agriculture\",\"Energy\",\"Other\",\"Waste\",\"Agriculture\",\"Energy\",\"Other\",\"Waste\",\"Agriculture\",\"Energy\",\"Other\",\"Waste\",\"Agriculture\",\"Energy\",\"Other\",\"Waste\",\"Agriculture\",\"Energy\",\"Other\",\"Waste\",\"Agriculture\",\"Energy\",\"Other\",\"Waste\",\"Agriculture\",\"Energy\",\"Other\",\"Waste\",\"Agriculture\",\"Energy\",\"Other\",\"Waste\",\"Agriculture\",\"Energy\",\"Other\",\"Waste\",\"Agriculture\",\"Energy\",\"Other\",\"Waste\",\"Agriculture\",\"Energy\",\"Other\",\"Waste\",\"Agriculture\",\"Energy\",\"Other\",\"Waste\",\"Agriculture\",\"Energy\",\"Other\",\"Waste\",\"Agriculture\",\"Energy\",\"Other\",\"Waste\",\"Agriculture\",\"Energy\",\"Other\",\"Waste\",\"Agriculture\",\"Energy\",\"Other\",\"Waste\",\"Agriculture\",\"Energy\",\"Other\",\"Waste\",\"Agriculture\",\"Energy\",\"Other\",\"Waste\",\"Agriculture\",\"Energy\",\"Other\",\"Waste\",\"Agriculture\",\"Energy\",\"Other\",\"Waste\",\"Agriculture\",\"Energy\",\"Other\",\"Waste\",\"Agriculture\",\"Energy\",\"Other\",\"Waste\",\"Agriculture\",\"Energy\",\"Other\",\"Waste\",\"Agriculture\",\"Energy\",\"Other\",\"Waste\",\"Agriculture\",\"Energy\",\"Other\",\"Waste\",\"Agriculture\",\"Energy\",\"Other\",\"Waste\",\"Agriculture\",\"Energy\",\"Other\",\"Waste\",\"Agriculture\",\"Energy\",\"Other\",\"Waste\",\"Agriculture\",\"Energy\",\"Other\",\"Waste\",\"Agriculture\",\"Energy\",\"Other\",\"Waste\",\"Agriculture\",\"Energy\",\"Other\",\"Waste\",\"Agriculture\",\"Energy\",\"Other\",\"Waste\",\"Agriculture\",\"Energy\",\"Other\",\"Waste\",\"Agriculture\",\"Energy\",\"Other\",\"Waste\",\"Agriculture\",\"Energy\",\"Other\",\"Waste\",\"Agriculture\",\"Energy\",\"Other\",\"Waste\",\"Agriculture\",\"Energy\",\"Other\",\"Waste\",\"Agriculture\",\"Energy\",\"Other\",\"Waste\",\"Agriculture\",\"Energy\",\"Other\",\"Waste\",\"Agriculture\",\"Energy\",\"Other\",\"Waste\",\"Agriculture\",\"Energy\",\"Other\",\"Waste\",\"Agriculture\",\"Energy\",\"Other\",\"Waste\",\"Agriculture\",\"Energy\",\"Other\",\"Waste\",\"Agriculture\",\"Energy\",\"Other\",\"Waste\",\"Agriculture\",\"Energy\",\"Other\",\"Waste\",\"Agriculture\",\"Energy\",\"Other\",\"Waste\",\"Agriculture\",\"Energy\",\"Other\",\"Waste\",\"Agriculture\",\"Energy\",\"Other\",\"Waste\",\"Agriculture\",\"Energy\",\"Other\",\"Waste\",\"Agriculture\",\"Energy\",\"Other\",\"Waste\",\"Agriculture\",\"Energy\",\"Other\",\"Waste\",\"Agriculture\",\"Energy\",\"Other\",\"Waste\",\"Agriculture\",\"Energy\",\"Other\",\"Waste\",\"Agriculture\",\"Energy\",\"Other\",\"Waste\",\"Agriculture\",\"Energy\",\"Other\",\"Waste\",\"Agriculture\",\"Energy\",\"Other\",\"Waste\",\"Agriculture\",\"Energy\",\"Other\",\"Waste\",\"Agriculture\",\"Energy\",\"Other\",\"Waste\",\"Agriculture\",\"Energy\",\"Other\",\"Waste\",\"Agriculture\",\"Energy\",\"Other\",\"Waste\",\"Agriculture\",\"Energy\",\"Other\",\"Waste\",\"Agriculture\",\"Energy\",\"Other\",\"Waste\",\"Agriculture\",\"Energy\",\"Other\",\"Waste\"],\"legendgroup\":\"\",\"name\":\"\",\"showlegend\":true,\"values\":[257.6112060546875,2669.194580078125,6.475720882415772,510.9656066894531,400.9695739746094,568.7333374023438,81.70992279052734,151.49404907226562,105.69103240966795,26.6285400390625,43.24774169921875,42.10737228393555,97.25849151611328,6.199222564697266,2.236912250518799,843.4016723632812,279.5312194824219,216.560775756836,23.94275665283203,194.51437377929688,250.8168029785156,173.46914672851562,22.85633850097656,1223.9329833984375,51.41695022583008,13.205078125,70.19759368896484,23.8709659576416,264.7666931152344,11.99696445465088,30.08274269104004,185.7007751464844,93.39645385742188,28.767297744750977,220.2355194091797,555.5286865234375,260.6929016113281,201.8346710205078,566.8305053710938,684.5322265625,958.0424194335938,12.003130912780762,947.93408203125,0.438739001750946,169.01870727539062,2.3649120330810547,11.922514915466309,120.17935180664062,5.936958312988281,2.5068612098693848,24.038236618041992,1910.0897216796875,464.2127685546875,177.9381866455078,414.8589172363281,5.590458393096924,248.5525665283203,5.498744964599609,21.208723068237305,29.567506790161133,3.931763887405396,14.088419914245604,169.0322265625,120.73609161376952,26.986873626708984,159.3824005126953,438.159423828125,0.0080000003799796,17.251436233520508,68.93671417236328,52.83677673339844,26.177602767944336,8.758500099182129,1250.951904296875,143.8259735107422,34.40288162231445,180.646713256836,9.208291053771973,15.316903114318848,19.37256050109864,67.41584777832031,1599.4412841796875,3.0724658966064453,83.35655975341797,295.3795166015625,22.181472778320312,6.258478164672852,405.1220397949219,210.65399169921875,227.3558959960937,106.01947784423828,155.7392578125,181.9879150390625,2.631089210510254,1.329381227493286,15.859238624572754,696.4396362304688,40.86768341064453,10.043743133544922,152.30502319335938,2082.188232421875,3306.0712890625,347.1287841796875,862.4360961914062,261.5225524902344,13.024876594543455,4.177417755126953,101.4332275390625,0.078720711171627,0.0518720373511314,2.491305351257324,86.26763916015625,9.578605651855469,49.99830627441406,625.7147827148438,29.507999420166016,23.82088088989257,108.4111557006836,760.32275390625,1239.0296630859375,42.40746307373047,834.2140502929688,695.7181396484375,76.9888916015625,3.3333332538604736,121.76155090332033,1549.11083984375,143.06582641601562,36.831764221191406,233.21359252929688,1180.221923828125,203.3902282714844,1225.0953369140625,227.552978515625,50.73590850830078,19.2255916595459,9.78065299987793,37.90462112426758,97.72246551513672,77.23422241210938,4.220635890960693,108.2469711303711,2450.463134765625,2232.23876953125,241.8041534423828,619.0491333007812,2410.234375,334.3358459472656,54.36891174316406,825.30224609375,0.8412342667579651,43.50729370117188,0.2182318568229675,9.676277160644531,18501.9140625,25372.22265625,1377.8709716796875,10424.1416015625,18358.517578125,5185.236328125,571.2567138671875,5551.7607421875,3518.344482421875,5080.369140625,1156.4476318359375,4568.9384765625,991.6493530273438,283.3003234863281,21.91791725158692,243.30145263671875,508.4415588378906,200.3266448974609,28.59282493591309,527.2578125,189.0501708984375,474.0210876464844,27.7065544128418,893.9114379882812,549.2429809570312,216.8521881103516,6.77065896987915,16.66093635559082,1155.9993896484375,37.33414077758789,8.055159568786621,165.2618865966797,3300.293701171875,527.3272094726562,149.16900634765625,436.8053588867188,5319.4560546875,920.3993530273438,156.03668212890625,854.3361206054688,1714.848876953125,116.43431091308594,52.23356628417969,649.79248046875,2078.933837890625,535.2486572265625,56.79174041748047,703.9661254882812,2193.2626953125,60.93199920654297,34.768653869628906,783.7750244140625,3152.9326171875,1307.0936279296875,85.4056396484375,705.7312622070312,673.754150390625,128.09658813476562,146.38304138183594,87.08856201171875,14020.0888671875,1756.495361328125,387.7013854980469,3800.05712890625,1795.9031982421875,778.1613159179688,17.213926315307617,643.7293090820312,267.4549255371094,21.06509017944336,2.341588258743286,160.3751678466797,359.8713684082031,277.0992736816406,3.937007188796997,235.403060913086,57.39715576171875,47.569732666015625,1.915329933166504,8.31496524810791,835.0689086914062,16.34809112548828,13.040079116821287,115.26103973388672,639.6949462890625,131.71063232421875,50.463600158691406,355.07745361328125,4.345527648925781,209.22000122070312,5.858375072479248,62.29243469238281,751.9459228515625,7.599424362182617,3.5114591121673584,138.26727294921875,1015.0640869140624,2642.70361328125,10.820260047912598,379.9532775878906,240.09361267089844,41.51583480834961,5.735045909881592,40.26875686645508,27.72345733642578,11.624244689941406,2.18104100227356,37.32962417602539,8851.337890625,2760.969970703125,290.8985595703125,4320.9970703125,1564.2218017578125,193.59646606445312,39.94035720825195,630.8741455078125,1269.36865234375,353.0937194824219,67.88993072509766,605.1366577148438,39.840087890625,43.2089958190918,0.6706947088241577,282.4595642089844,800.047119140625,285.7864685058594,30.06378936767578,579.596923828125,466.8436584472656,29.25938034057617,15.82078742980957,137.8373260498047,103.60773468017578,41.1037712097168,5.547865867614746,46.46012496948242,2284.248779296875,448.1883544921875,84.71975708007812,2321.68505859375,2811.933837890625,600.064453125,98.36200714111328,1850.4228515625,139.63568115234375,55.59594345092773,8.988862991333008,249.8030548095703,615.5054321289062,865.2888793945312,44.48818588256836,347.61395263671875,367.9289245605469,285.4109191894531,11.696823120117188,244.40768432617188,48.42922592163086,7.726953983306885,1.593956470489502,17.910375595092773,128.65838623046875,31.990554809570312,10.069866180419922,159.8013458251953,377.1493225097656,553.4212036132812,71.82522583007812,401.859619140625,1064.6658935546875,274.63140869140625,64.70419311523438,1113.1412353515625,0.9645923376083374,190.6852569580078,1.48150372505188,172.3936004638672,802.454345703125,5629.822265625,37.20094299316406,931.3856201171876,168.22393798828125,2515.052734375,3.4219236373901367,362.1964721679688,25.815542221069336,47.20696640014648,0.5782174468040466,200.5210418701172,7.323050498962402,1002.0822143554688,0.8249784111976624,257.99493408203125,12.067669868469238,4.712915897369385,0.7648441195487976,112.2239990234375,37.05989837646485,869.2565307617188,9.764742851257324,64.55561828613281,11.3685884475708,1138.517822265625,5.521563529968262,64.40309143066406,121.0209732055664,3051.0966796875,27.8301010131836,955.779541015625,133.05282592773438,237.66441345214844,1.1841530799865725,169.2044219970703,47.43784332275391,1439.1328125,2.969593048095703,462.6634826660156,181.29298400878903,145.18161010742188,0.5342848896980286,161.4936981201172,1072.710693359375,2548.3984375,42.62068176269531,897.9652709960938,2420.791015625,1581.3292236328125,54.36140441894531,1994.62744140625,9409.3251953125,16769.630859375,538.3626098632812,5117.92822265625,7259.01416015625,2420.8798828125,682.0879516601562,3214.4951171875,195.1975250244141,323.2549743652344,0.96043461561203,104.27503204345705,762.0980834960938,2740.561279296875,17.407060623168945,198.9350128173828,2022.095947265625,18078.083984375,323.421630859375,3931.244384765625,304.87176513671875,4740.041015625,1.4148011207580566,48.02981185913086,901.6826171875,780.9161376953125,3.845616340637207,280.4182434082031],\"type\":\"pie\"}],                        {\"template\":{\"data\":{\"histogram2dcontour\":[{\"type\":\"histogram2dcontour\",\"colorbar\":{\"outlinewidth\":0,\"ticks\":\"\"},\"colorscale\":[[0.0,\"#0d0887\"],[0.1111111111111111,\"#46039f\"],[0.2222222222222222,\"#7201a8\"],[0.3333333333333333,\"#9c179e\"],[0.4444444444444444,\"#bd3786\"],[0.5555555555555556,\"#d8576b\"],[0.6666666666666666,\"#ed7953\"],[0.7777777777777778,\"#fb9f3a\"],[0.8888888888888888,\"#fdca26\"],[1.0,\"#f0f921\"]]}],\"choropleth\":[{\"type\":\"choropleth\",\"colorbar\":{\"outlinewidth\":0,\"ticks\":\"\"}}],\"histogram2d\":[{\"type\":\"histogram2d\",\"colorbar\":{\"outlinewidth\":0,\"ticks\":\"\"},\"colorscale\":[[0.0,\"#0d0887\"],[0.1111111111111111,\"#46039f\"],[0.2222222222222222,\"#7201a8\"],[0.3333333333333333,\"#9c179e\"],[0.4444444444444444,\"#bd3786\"],[0.5555555555555556,\"#d8576b\"],[0.6666666666666666,\"#ed7953\"],[0.7777777777777778,\"#fb9f3a\"],[0.8888888888888888,\"#fdca26\"],[1.0,\"#f0f921\"]]}],\"heatmap\":[{\"type\":\"heatmap\",\"colorbar\":{\"outlinewidth\":0,\"ticks\":\"\"},\"colorscale\":[[0.0,\"#0d0887\"],[0.1111111111111111,\"#46039f\"],[0.2222222222222222,\"#7201a8\"],[0.3333333333333333,\"#9c179e\"],[0.4444444444444444,\"#bd3786\"],[0.5555555555555556,\"#d8576b\"],[0.6666666666666666,\"#ed7953\"],[0.7777777777777778,\"#fb9f3a\"],[0.8888888888888888,\"#fdca26\"],[1.0,\"#f0f921\"]]}],\"heatmapgl\":[{\"type\":\"heatmapgl\",\"colorbar\":{\"outlinewidth\":0,\"ticks\":\"\"},\"colorscale\":[[0.0,\"#0d0887\"],[0.1111111111111111,\"#46039f\"],[0.2222222222222222,\"#7201a8\"],[0.3333333333333333,\"#9c179e\"],[0.4444444444444444,\"#bd3786\"],[0.5555555555555556,\"#d8576b\"],[0.6666666666666666,\"#ed7953\"],[0.7777777777777778,\"#fb9f3a\"],[0.8888888888888888,\"#fdca26\"],[1.0,\"#f0f921\"]]}],\"contourcarpet\":[{\"type\":\"contourcarpet\",\"colorbar\":{\"outlinewidth\":0,\"ticks\":\"\"}}],\"contour\":[{\"type\":\"contour\",\"colorbar\":{\"outlinewidth\":0,\"ticks\":\"\"},\"colorscale\":[[0.0,\"#0d0887\"],[0.1111111111111111,\"#46039f\"],[0.2222222222222222,\"#7201a8\"],[0.3333333333333333,\"#9c179e\"],[0.4444444444444444,\"#bd3786\"],[0.5555555555555556,\"#d8576b\"],[0.6666666666666666,\"#ed7953\"],[0.7777777777777778,\"#fb9f3a\"],[0.8888888888888888,\"#fdca26\"],[1.0,\"#f0f921\"]]}],\"surface\":[{\"type\":\"surface\",\"colorbar\":{\"outlinewidth\":0,\"ticks\":\"\"},\"colorscale\":[[0.0,\"#0d0887\"],[0.1111111111111111,\"#46039f\"],[0.2222222222222222,\"#7201a8\"],[0.3333333333333333,\"#9c179e\"],[0.4444444444444444,\"#bd3786\"],[0.5555555555555556,\"#d8576b\"],[0.6666666666666666,\"#ed7953\"],[0.7777777777777778,\"#fb9f3a\"],[0.8888888888888888,\"#fdca26\"],[1.0,\"#f0f921\"]]}],\"mesh3d\":[{\"type\":\"mesh3d\",\"colorbar\":{\"outlinewidth\":0,\"ticks\":\"\"}}],\"scatter\":[{\"fillpattern\":{\"fillmode\":\"overlay\",\"size\":10,\"solidity\":0.2},\"type\":\"scatter\"}],\"parcoords\":[{\"type\":\"parcoords\",\"line\":{\"colorbar\":{\"outlinewidth\":0,\"ticks\":\"\"}}}],\"scatterpolargl\":[{\"type\":\"scatterpolargl\",\"marker\":{\"colorbar\":{\"outlinewidth\":0,\"ticks\":\"\"}}}],\"bar\":[{\"error_x\":{\"color\":\"#2a3f5f\"},\"error_y\":{\"color\":\"#2a3f5f\"},\"marker\":{\"line\":{\"color\":\"#E5ECF6\",\"width\":0.5},\"pattern\":{\"fillmode\":\"overlay\",\"size\":10,\"solidity\":0.2}},\"type\":\"bar\"}],\"scattergeo\":[{\"type\":\"scattergeo\",\"marker\":{\"colorbar\":{\"outlinewidth\":0,\"ticks\":\"\"}}}],\"scatterpolar\":[{\"type\":\"scatterpolar\",\"marker\":{\"colorbar\":{\"outlinewidth\":0,\"ticks\":\"\"}}}],\"histogram\":[{\"marker\":{\"pattern\":{\"fillmode\":\"overlay\",\"size\":10,\"solidity\":0.2}},\"type\":\"histogram\"}],\"scattergl\":[{\"type\":\"scattergl\",\"marker\":{\"colorbar\":{\"outlinewidth\":0,\"ticks\":\"\"}}}],\"scatter3d\":[{\"type\":\"scatter3d\",\"line\":{\"colorbar\":{\"outlinewidth\":0,\"ticks\":\"\"}},\"marker\":{\"colorbar\":{\"outlinewidth\":0,\"ticks\":\"\"}}}],\"scattermapbox\":[{\"type\":\"scattermapbox\",\"marker\":{\"colorbar\":{\"outlinewidth\":0,\"ticks\":\"\"}}}],\"scatterternary\":[{\"type\":\"scatterternary\",\"marker\":{\"colorbar\":{\"outlinewidth\":0,\"ticks\":\"\"}}}],\"scattercarpet\":[{\"type\":\"scattercarpet\",\"marker\":{\"colorbar\":{\"outlinewidth\":0,\"ticks\":\"\"}}}],\"carpet\":[{\"aaxis\":{\"endlinecolor\":\"#2a3f5f\",\"gridcolor\":\"white\",\"linecolor\":\"white\",\"minorgridcolor\":\"white\",\"startlinecolor\":\"#2a3f5f\"},\"baxis\":{\"endlinecolor\":\"#2a3f5f\",\"gridcolor\":\"white\",\"linecolor\":\"white\",\"minorgridcolor\":\"white\",\"startlinecolor\":\"#2a3f5f\"},\"type\":\"carpet\"}],\"table\":[{\"cells\":{\"fill\":{\"color\":\"#EBF0F8\"},\"line\":{\"color\":\"white\"}},\"header\":{\"fill\":{\"color\":\"#C8D4E3\"},\"line\":{\"color\":\"white\"}},\"type\":\"table\"}],\"barpolar\":[{\"marker\":{\"line\":{\"color\":\"#E5ECF6\",\"width\":0.5},\"pattern\":{\"fillmode\":\"overlay\",\"size\":10,\"solidity\":0.2}},\"type\":\"barpolar\"}],\"pie\":[{\"automargin\":true,\"type\":\"pie\"}]},\"layout\":{\"autotypenumbers\":\"strict\",\"colorway\":[\"#636efa\",\"#EF553B\",\"#00cc96\",\"#ab63fa\",\"#FFA15A\",\"#19d3f3\",\"#FF6692\",\"#B6E880\",\"#FF97FF\",\"#FECB52\"],\"font\":{\"color\":\"#2a3f5f\"},\"hovermode\":\"closest\",\"hoverlabel\":{\"align\":\"left\"},\"paper_bgcolor\":\"white\",\"plot_bgcolor\":\"#E5ECF6\",\"polar\":{\"bgcolor\":\"#E5ECF6\",\"angularaxis\":{\"gridcolor\":\"white\",\"linecolor\":\"white\",\"ticks\":\"\"},\"radialaxis\":{\"gridcolor\":\"white\",\"linecolor\":\"white\",\"ticks\":\"\"}},\"ternary\":{\"bgcolor\":\"#E5ECF6\",\"aaxis\":{\"gridcolor\":\"white\",\"linecolor\":\"white\",\"ticks\":\"\"},\"baxis\":{\"gridcolor\":\"white\",\"linecolor\":\"white\",\"ticks\":\"\"},\"caxis\":{\"gridcolor\":\"white\",\"linecolor\":\"white\",\"ticks\":\"\"}},\"coloraxis\":{\"colorbar\":{\"outlinewidth\":0,\"ticks\":\"\"}},\"colorscale\":{\"sequential\":[[0.0,\"#0d0887\"],[0.1111111111111111,\"#46039f\"],[0.2222222222222222,\"#7201a8\"],[0.3333333333333333,\"#9c179e\"],[0.4444444444444444,\"#bd3786\"],[0.5555555555555556,\"#d8576b\"],[0.6666666666666666,\"#ed7953\"],[0.7777777777777778,\"#fb9f3a\"],[0.8888888888888888,\"#fdca26\"],[1.0,\"#f0f921\"]],\"sequentialminus\":[[0.0,\"#0d0887\"],[0.1111111111111111,\"#46039f\"],[0.2222222222222222,\"#7201a8\"],[0.3333333333333333,\"#9c179e\"],[0.4444444444444444,\"#bd3786\"],[0.5555555555555556,\"#d8576b\"],[0.6666666666666666,\"#ed7953\"],[0.7777777777777778,\"#fb9f3a\"],[0.8888888888888888,\"#fdca26\"],[1.0,\"#f0f921\"]],\"diverging\":[[0,\"#8e0152\"],[0.1,\"#c51b7d\"],[0.2,\"#de77ae\"],[0.3,\"#f1b6da\"],[0.4,\"#fde0ef\"],[0.5,\"#f7f7f7\"],[0.6,\"#e6f5d0\"],[0.7,\"#b8e186\"],[0.8,\"#7fbc41\"],[0.9,\"#4d9221\"],[1,\"#276419\"]]},\"xaxis\":{\"gridcolor\":\"white\",\"linecolor\":\"white\",\"ticks\":\"\",\"title\":{\"standoff\":15},\"zerolinecolor\":\"white\",\"automargin\":true,\"zerolinewidth\":2},\"yaxis\":{\"gridcolor\":\"white\",\"linecolor\":\"white\",\"ticks\":\"\",\"title\":{\"standoff\":15},\"zerolinecolor\":\"white\",\"automargin\":true,\"zerolinewidth\":2},\"scene\":{\"xaxis\":{\"backgroundcolor\":\"#E5ECF6\",\"gridcolor\":\"white\",\"linecolor\":\"white\",\"showbackground\":true,\"ticks\":\"\",\"zerolinecolor\":\"white\",\"gridwidth\":2},\"yaxis\":{\"backgroundcolor\":\"#E5ECF6\",\"gridcolor\":\"white\",\"linecolor\":\"white\",\"showbackground\":true,\"ticks\":\"\",\"zerolinecolor\":\"white\",\"gridwidth\":2},\"zaxis\":{\"backgroundcolor\":\"#E5ECF6\",\"gridcolor\":\"white\",\"linecolor\":\"white\",\"showbackground\":true,\"ticks\":\"\",\"zerolinecolor\":\"white\",\"gridwidth\":2}},\"shapedefaults\":{\"line\":{\"color\":\"#2a3f5f\"}},\"annotationdefaults\":{\"arrowcolor\":\"#2a3f5f\",\"arrowhead\":0,\"arrowwidth\":1},\"geo\":{\"bgcolor\":\"white\",\"landcolor\":\"#E5ECF6\",\"subunitcolor\":\"white\",\"showland\":true,\"showlakes\":true,\"lakecolor\":\"white\"},\"title\":{\"x\":0.05},\"mapbox\":{\"style\":\"light\"}}},\"legend\":{\"tracegroupgap\":0},\"margin\":{\"t\":60}},                        {\"responsive\": true}                    ).then(function(){\n",
       "                            \n",
       "var gd = document.getElementById('a0f10102-97bc-4944-98e8-19a833c6a5f8');\n",
       "var x = new MutationObserver(function (mutations, observer) {{\n",
       "        var display = window.getComputedStyle(gd).display;\n",
       "        if (!display || display === 'none') {{\n",
       "            console.log([gd, 'removed!']);\n",
       "            Plotly.purge(gd);\n",
       "            observer.disconnect();\n",
       "        }}\n",
       "}});\n",
       "\n",
       "// Listen for the removal of the full notebook cells\n",
       "var notebookContainer = gd.closest('#notebook-container');\n",
       "if (notebookContainer) {{\n",
       "    x.observe(notebookContainer, {childList: true});\n",
       "}}\n",
       "\n",
       "// Listen for the clearing of the current output cell\n",
       "var outputEl = gd.closest('.output');\n",
       "if (outputEl) {{\n",
       "    x.observe(outputEl, {childList: true});\n",
       "}}\n",
       "\n",
       "                        })                };                });            </script>        </div>"
      ]
     },
     "metadata": {},
     "output_type": "display_data"
    }
   ],
   "source": [
    "px.pie(temp2,values='emissions',names='type',hole=0.5)"
   ]
  },
  {
   "cell_type": "code",
   "execution_count": 26,
   "id": "675a439c",
   "metadata": {
    "execution": {
     "iopub.execute_input": "2023-03-31T05:18:47.432037Z",
     "iopub.status.busy": "2023-03-31T05:18:47.430747Z",
     "iopub.status.idle": "2023-03-31T05:18:47.452533Z",
     "shell.execute_reply": "2023-03-31T05:18:47.451301Z"
    },
    "papermill": {
     "duration": 0.044153,
     "end_time": "2023-03-31T05:18:47.454891",
     "exception": false,
     "start_time": "2023-03-31T05:18:47.410738",
     "status": "completed"
    },
    "tags": []
   },
   "outputs": [
    {
     "data": {
      "text/html": [
       "<div>\n",
       "<style scoped>\n",
       "    .dataframe tbody tr th:only-of-type {\n",
       "        vertical-align: middle;\n",
       "    }\n",
       "\n",
       "    .dataframe tbody tr th {\n",
       "        vertical-align: top;\n",
       "    }\n",
       "\n",
       "    .dataframe thead th {\n",
       "        text-align: right;\n",
       "    }\n",
       "</style>\n",
       "<table border=\"1\" class=\"dataframe\">\n",
       "  <thead>\n",
       "    <tr style=\"text-align: right;\">\n",
       "      <th></th>\n",
       "      <th>region</th>\n",
       "      <th>country</th>\n",
       "      <th>emissions</th>\n",
       "      <th>type</th>\n",
       "      <th>segment</th>\n",
       "      <th>reason</th>\n",
       "      <th>baseYear</th>\n",
       "      <th>notes</th>\n",
       "    </tr>\n",
       "  </thead>\n",
       "  <tbody>\n",
       "    <tr>\n",
       "      <th>0</th>\n",
       "      <td>Africa</td>\n",
       "      <td>Algeria</td>\n",
       "      <td>257.611206</td>\n",
       "      <td>Agriculture</td>\n",
       "      <td>Total</td>\n",
       "      <td>All</td>\n",
       "      <td>2019-2021</td>\n",
       "      <td>Average based on United Nations Framework Conv...</td>\n",
       "    </tr>\n",
       "    <tr>\n",
       "      <th>1</th>\n",
       "      <td>Africa</td>\n",
       "      <td>Algeria</td>\n",
       "      <td>0.052000</td>\n",
       "      <td>Energy</td>\n",
       "      <td>Bioenergy</td>\n",
       "      <td>All</td>\n",
       "      <td>2022</td>\n",
       "      <td>Estimates from end-uses are for 2020 or 2021 (...</td>\n",
       "    </tr>\n",
       "    <tr>\n",
       "      <th>2</th>\n",
       "      <td>Africa</td>\n",
       "      <td>Algeria</td>\n",
       "      <td>130.798996</td>\n",
       "      <td>Energy</td>\n",
       "      <td>Gas pipelines and LNG facilities</td>\n",
       "      <td>Fugitive</td>\n",
       "      <td>2022</td>\n",
       "      <td>Not available</td>\n",
       "    </tr>\n",
       "    <tr>\n",
       "      <th>3</th>\n",
       "      <td>Africa</td>\n",
       "      <td>Algeria</td>\n",
       "      <td>69.741898</td>\n",
       "      <td>Energy</td>\n",
       "      <td>Gas pipelines and LNG facilities</td>\n",
       "      <td>Vented</td>\n",
       "      <td>2022</td>\n",
       "      <td>Not available</td>\n",
       "    </tr>\n",
       "    <tr>\n",
       "      <th>4</th>\n",
       "      <td>Africa</td>\n",
       "      <td>Algeria</td>\n",
       "      <td>213.987000</td>\n",
       "      <td>Energy</td>\n",
       "      <td>Onshore gas</td>\n",
       "      <td>Fugitive</td>\n",
       "      <td>2022</td>\n",
       "      <td>Not available</td>\n",
       "    </tr>\n",
       "    <tr>\n",
       "      <th>...</th>\n",
       "      <td>...</td>\n",
       "      <td>...</td>\n",
       "      <td>...</td>\n",
       "      <td>...</td>\n",
       "      <td>...</td>\n",
       "      <td>...</td>\n",
       "      <td>...</td>\n",
       "      <td>...</td>\n",
       "    </tr>\n",
       "    <tr>\n",
       "      <th>1521</th>\n",
       "      <td>Russia &amp; Caspian</td>\n",
       "      <td>Uzbekistan</td>\n",
       "      <td>16.973917</td>\n",
       "      <td>Energy</td>\n",
       "      <td>Other from oil and gas</td>\n",
       "      <td>All</td>\n",
       "      <td>2022</td>\n",
       "      <td>Estimates from end-uses are for 2020 or 2021 (...</td>\n",
       "    </tr>\n",
       "    <tr>\n",
       "      <th>1522</th>\n",
       "      <td>Russia &amp; Caspian</td>\n",
       "      <td>Uzbekistan</td>\n",
       "      <td>18.299999</td>\n",
       "      <td>Energy</td>\n",
       "      <td>Satellite-detected large oil and gas emissions</td>\n",
       "      <td>All</td>\n",
       "      <td>2022</td>\n",
       "      <td>Not available</td>\n",
       "    </tr>\n",
       "    <tr>\n",
       "      <th>1523</th>\n",
       "      <td>Russia &amp; Caspian</td>\n",
       "      <td>Uzbekistan</td>\n",
       "      <td>780.916138</td>\n",
       "      <td>Energy</td>\n",
       "      <td>Total</td>\n",
       "      <td>All</td>\n",
       "      <td>2022</td>\n",
       "      <td>Estimates from end-uses are for 2020 or 2021 (...</td>\n",
       "    </tr>\n",
       "    <tr>\n",
       "      <th>1524</th>\n",
       "      <td>Russia &amp; Caspian</td>\n",
       "      <td>Uzbekistan</td>\n",
       "      <td>3.845616</td>\n",
       "      <td>Other</td>\n",
       "      <td>Total</td>\n",
       "      <td>All</td>\n",
       "      <td>2019-2021</td>\n",
       "      <td>Average based on United Nations Framework Conv...</td>\n",
       "    </tr>\n",
       "    <tr>\n",
       "      <th>1525</th>\n",
       "      <td>Russia &amp; Caspian</td>\n",
       "      <td>Uzbekistan</td>\n",
       "      <td>280.418243</td>\n",
       "      <td>Waste</td>\n",
       "      <td>Total</td>\n",
       "      <td>All</td>\n",
       "      <td>2019-2021</td>\n",
       "      <td>Average based on United Nations Framework Conv...</td>\n",
       "    </tr>\n",
       "  </tbody>\n",
       "</table>\n",
       "<p>1526 rows × 8 columns</p>\n",
       "</div>"
      ],
      "text/plain": [
       "                region     country   emissions         type  \\\n",
       "0               Africa     Algeria  257.611206  Agriculture   \n",
       "1               Africa     Algeria    0.052000       Energy   \n",
       "2               Africa     Algeria  130.798996       Energy   \n",
       "3               Africa     Algeria   69.741898       Energy   \n",
       "4               Africa     Algeria  213.987000       Energy   \n",
       "...                ...         ...         ...          ...   \n",
       "1521  Russia & Caspian  Uzbekistan   16.973917       Energy   \n",
       "1522  Russia & Caspian  Uzbekistan   18.299999       Energy   \n",
       "1523  Russia & Caspian  Uzbekistan  780.916138       Energy   \n",
       "1524  Russia & Caspian  Uzbekistan    3.845616        Other   \n",
       "1525  Russia & Caspian  Uzbekistan  280.418243        Waste   \n",
       "\n",
       "                                             segment    reason   baseYear  \\\n",
       "0                                              Total       All  2019-2021   \n",
       "1                                          Bioenergy       All       2022   \n",
       "2                   Gas pipelines and LNG facilities  Fugitive       2022   \n",
       "3                   Gas pipelines and LNG facilities    Vented       2022   \n",
       "4                                        Onshore gas  Fugitive       2022   \n",
       "...                                              ...       ...        ...   \n",
       "1521                          Other from oil and gas       All       2022   \n",
       "1522  Satellite-detected large oil and gas emissions       All       2022   \n",
       "1523                                           Total       All       2022   \n",
       "1524                                           Total       All  2019-2021   \n",
       "1525                                           Total       All  2019-2021   \n",
       "\n",
       "                                                  notes  \n",
       "0     Average based on United Nations Framework Conv...  \n",
       "1     Estimates from end-uses are for 2020 or 2021 (...  \n",
       "2                                         Not available  \n",
       "3                                         Not available  \n",
       "4                                         Not available  \n",
       "...                                                 ...  \n",
       "1521  Estimates from end-uses are for 2020 or 2021 (...  \n",
       "1522                                      Not available  \n",
       "1523  Estimates from end-uses are for 2020 or 2021 (...  \n",
       "1524  Average based on United Nations Framework Conv...  \n",
       "1525  Average based on United Nations Framework Conv...  \n",
       "\n",
       "[1526 rows x 8 columns]"
      ]
     },
     "execution_count": 26,
     "metadata": {},
     "output_type": "execute_result"
    }
   ],
   "source": [
    "temp3=df[df['country']!='World']\n",
    "temp3"
   ]
  },
  {
   "cell_type": "code",
   "execution_count": 27,
   "id": "deb976a2",
   "metadata": {
    "execution": {
     "iopub.execute_input": "2023-03-31T05:18:47.495073Z",
     "iopub.status.busy": "2023-03-31T05:18:47.494626Z",
     "iopub.status.idle": "2023-03-31T05:18:47.513150Z",
     "shell.execute_reply": "2023-03-31T05:18:47.511953Z"
    },
    "papermill": {
     "duration": 0.041332,
     "end_time": "2023-03-31T05:18:47.515469",
     "exception": false,
     "start_time": "2023-03-31T05:18:47.474137",
     "status": "completed"
    },
    "tags": []
   },
   "outputs": [
    {
     "data": {
      "text/html": [
       "<div>\n",
       "<style scoped>\n",
       "    .dataframe tbody tr th:only-of-type {\n",
       "        vertical-align: middle;\n",
       "    }\n",
       "\n",
       "    .dataframe tbody tr th {\n",
       "        vertical-align: top;\n",
       "    }\n",
       "\n",
       "    .dataframe thead th {\n",
       "        text-align: right;\n",
       "    }\n",
       "</style>\n",
       "<table border=\"1\" class=\"dataframe\">\n",
       "  <thead>\n",
       "    <tr style=\"text-align: right;\">\n",
       "      <th></th>\n",
       "      <th>region</th>\n",
       "      <th>country</th>\n",
       "      <th>emissions</th>\n",
       "      <th>type</th>\n",
       "      <th>segment</th>\n",
       "      <th>reason</th>\n",
       "      <th>baseYear</th>\n",
       "      <th>notes</th>\n",
       "    </tr>\n",
       "  </thead>\n",
       "  <tbody>\n",
       "    <tr>\n",
       "      <th>0</th>\n",
       "      <td>Africa</td>\n",
       "      <td>Algeria</td>\n",
       "      <td>257.611206</td>\n",
       "      <td>Agriculture</td>\n",
       "      <td>Total</td>\n",
       "      <td>All</td>\n",
       "      <td>2019-2021</td>\n",
       "      <td>Average based on United Nations Framework Conv...</td>\n",
       "    </tr>\n",
       "    <tr>\n",
       "      <th>1</th>\n",
       "      <td>Africa</td>\n",
       "      <td>Algeria</td>\n",
       "      <td>0.052000</td>\n",
       "      <td>Energy</td>\n",
       "      <td>Bioenergy</td>\n",
       "      <td>All</td>\n",
       "      <td>2022</td>\n",
       "      <td>Estimates from end-uses are for 2020 or 2021 (...</td>\n",
       "    </tr>\n",
       "    <tr>\n",
       "      <th>2</th>\n",
       "      <td>Africa</td>\n",
       "      <td>Algeria</td>\n",
       "      <td>130.798996</td>\n",
       "      <td>Energy</td>\n",
       "      <td>Gas pipelines and LNG facilities</td>\n",
       "      <td>Fugitive</td>\n",
       "      <td>2022</td>\n",
       "      <td>Not available</td>\n",
       "    </tr>\n",
       "    <tr>\n",
       "      <th>3</th>\n",
       "      <td>Africa</td>\n",
       "      <td>Algeria</td>\n",
       "      <td>69.741898</td>\n",
       "      <td>Energy</td>\n",
       "      <td>Gas pipelines and LNG facilities</td>\n",
       "      <td>Vented</td>\n",
       "      <td>2022</td>\n",
       "      <td>Not available</td>\n",
       "    </tr>\n",
       "    <tr>\n",
       "      <th>4</th>\n",
       "      <td>Africa</td>\n",
       "      <td>Algeria</td>\n",
       "      <td>213.987000</td>\n",
       "      <td>Energy</td>\n",
       "      <td>Onshore gas</td>\n",
       "      <td>Fugitive</td>\n",
       "      <td>2022</td>\n",
       "      <td>Not available</td>\n",
       "    </tr>\n",
       "  </tbody>\n",
       "</table>\n",
       "</div>"
      ],
      "text/plain": [
       "   region  country   emissions         type                           segment  \\\n",
       "0  Africa  Algeria  257.611206  Agriculture                             Total   \n",
       "1  Africa  Algeria    0.052000       Energy                         Bioenergy   \n",
       "2  Africa  Algeria  130.798996       Energy  Gas pipelines and LNG facilities   \n",
       "3  Africa  Algeria   69.741898       Energy  Gas pipelines and LNG facilities   \n",
       "4  Africa  Algeria  213.987000       Energy                       Onshore gas   \n",
       "\n",
       "     reason   baseYear                                              notes  \n",
       "0       All  2019-2021  Average based on United Nations Framework Conv...  \n",
       "1       All       2022  Estimates from end-uses are for 2020 or 2021 (...  \n",
       "2  Fugitive       2022                                      Not available  \n",
       "3    Vented       2022                                      Not available  \n",
       "4  Fugitive       2022                                      Not available  "
      ]
     },
     "execution_count": 27,
     "metadata": {},
     "output_type": "execute_result"
    }
   ],
   "source": [
    "temp3=temp3[~((temp3['type']=='Energy')&(temp3['segment']=='Total'))]\n",
    "temp3.head()"
   ]
  },
  {
   "cell_type": "code",
   "execution_count": 28,
   "id": "7fed05f1",
   "metadata": {
    "execution": {
     "iopub.execute_input": "2023-03-31T05:18:47.555567Z",
     "iopub.status.busy": "2023-03-31T05:18:47.555106Z",
     "iopub.status.idle": "2023-03-31T05:18:47.568337Z",
     "shell.execute_reply": "2023-03-31T05:18:47.566903Z"
    },
    "papermill": {
     "duration": 0.036256,
     "end_time": "2023-03-31T05:18:47.570845",
     "exception": false,
     "start_time": "2023-03-31T05:18:47.534589",
     "status": "completed"
    },
    "tags": []
   },
   "outputs": [],
   "source": [
    "temp3=temp3.groupby(['segment','reason']).sum().reset_index()\n",
    "temp3.drop(index=[18],inplace=True)"
   ]
  },
  {
   "cell_type": "markdown",
   "id": "9fd6ff2f",
   "metadata": {
    "papermill": {
     "duration": 0.018729,
     "end_time": "2023-03-31T05:18:47.609189",
     "exception": false,
     "start_time": "2023-03-31T05:18:47.590460",
     "status": "completed"
    },
    "tags": []
   },
   "source": [
    "# segment and Reason vs Emissions"
   ]
  },
  {
   "cell_type": "code",
   "execution_count": 29,
   "id": "8e77fef8",
   "metadata": {
    "execution": {
     "iopub.execute_input": "2023-03-31T05:18:47.649213Z",
     "iopub.status.busy": "2023-03-31T05:18:47.648790Z",
     "iopub.status.idle": "2023-03-31T05:18:47.725458Z",
     "shell.execute_reply": "2023-03-31T05:18:47.724154Z"
    },
    "papermill": {
     "duration": 0.099661,
     "end_time": "2023-03-31T05:18:47.727825",
     "exception": false,
     "start_time": "2023-03-31T05:18:47.628164",
     "status": "completed"
    },
    "tags": []
   },
   "outputs": [
    {
     "data": {
      "text/html": [
       "<div>                            <div id=\"dbb4a0fe-6e67-4a59-bd1b-64cb48818a89\" class=\"plotly-graph-div\" style=\"height:525px; width:100%;\"></div>            <script type=\"text/javascript\">                require([\"plotly\"], function(Plotly) {                    window.PLOTLYENV=window.PLOTLYENV || {};                                    if (document.getElementById(\"dbb4a0fe-6e67-4a59-bd1b-64cb48818a89\")) {                    Plotly.newPlot(                        \"dbb4a0fe-6e67-4a59-bd1b-64cb48818a89\",                        [{\"alignmentgroup\":\"True\",\"hovertemplate\":\"reason=All<br>emissions=%{x}<br>segment=%{y}<extra></extra>\",\"legendgroup\":\"All\",\"marker\":{\"color\":\"#636efa\",\"pattern\":{\"shape\":\"\"}},\"name\":\"All\",\"offsetgroup\":\"All\",\"orientation\":\"h\",\"showlegend\":true,\"textposition\":\"auto\",\"x\":[9926.408037604764,10313.157683730125,1699.342014349997,2493.177698748652,3106.4000066518784,30047.273343540728],\"xaxis\":\"x\",\"y\":[\"Bioenergy\",\"Coking coal\",\"Other from coal\",\"Other from oil and gas\",\"Satellite-detected large oil and gas emissions\",\"Steam coal\"],\"yaxis\":\"y\",\"type\":\"bar\"},{\"alignmentgroup\":\"True\",\"hovertemplate\":\"reason=Fugitive<br>emissions=%{x}<br>segment=%{y}<extra></extra>\",\"legendgroup\":\"Fugitive\",\"marker\":{\"color\":\"#EF553B\",\"pattern\":{\"shape\":\"\"}},\"name\":\"Fugitive\",\"offsetgroup\":\"Fugitive\",\"orientation\":\"h\",\"showlegend\":true,\"textposition\":\"auto\",\"x\":[8243.553746704012,1369.931111591868,485.012469198904,5709.396677585086,1921.28505943669],\"xaxis\":\"x\",\"y\":[\"Gas pipelines and LNG facilities\",\"Offshore gas\",\"Offshore oil\",\"Onshore gas\",\"Onshore oil\"],\"yaxis\":\"y\",\"type\":\"bar\"},{\"alignmentgroup\":\"True\",\"hovertemplate\":\"reason=Vented<br>emissions=%{x}<br>segment=%{y}<extra></extra>\",\"legendgroup\":\"Vented\",\"marker\":{\"color\":\"#00cc96\",\"pattern\":{\"shape\":\"\"}},\"name\":\"Vented\",\"offsetgroup\":\"Vented\",\"orientation\":\"h\",\"showlegend\":true,\"textposition\":\"auto\",\"x\":[4395.469980370253,2972.4656653311104,6570.998807357624,12388.200895414222,26029.764491464943],\"xaxis\":\"x\",\"y\":[\"Gas pipelines and LNG facilities\",\"Offshore gas\",\"Offshore oil\",\"Onshore gas\",\"Onshore oil\"],\"yaxis\":\"y\",\"type\":\"bar\"},{\"alignmentgroup\":\"True\",\"hovertemplate\":\"reason=Flared<br>emissions=%{x}<br>segment=%{y}<extra></extra>\",\"legendgroup\":\"Flared\",\"marker\":{\"color\":\"#ab63fa\",\"pattern\":{\"shape\":\"\"}},\"name\":\"Flared\",\"offsetgroup\":\"Flared\",\"orientation\":\"h\",\"showlegend\":true,\"textposition\":\"auto\",\"x\":[1293.600583458494,6381.7336894099135],\"xaxis\":\"x\",\"y\":[\"Offshore oil\",\"Onshore oil\"],\"yaxis\":\"y\",\"type\":\"bar\"}],                        {\"template\":{\"data\":{\"histogram2dcontour\":[{\"type\":\"histogram2dcontour\",\"colorbar\":{\"outlinewidth\":0,\"ticks\":\"\"},\"colorscale\":[[0.0,\"#0d0887\"],[0.1111111111111111,\"#46039f\"],[0.2222222222222222,\"#7201a8\"],[0.3333333333333333,\"#9c179e\"],[0.4444444444444444,\"#bd3786\"],[0.5555555555555556,\"#d8576b\"],[0.6666666666666666,\"#ed7953\"],[0.7777777777777778,\"#fb9f3a\"],[0.8888888888888888,\"#fdca26\"],[1.0,\"#f0f921\"]]}],\"choropleth\":[{\"type\":\"choropleth\",\"colorbar\":{\"outlinewidth\":0,\"ticks\":\"\"}}],\"histogram2d\":[{\"type\":\"histogram2d\",\"colorbar\":{\"outlinewidth\":0,\"ticks\":\"\"},\"colorscale\":[[0.0,\"#0d0887\"],[0.1111111111111111,\"#46039f\"],[0.2222222222222222,\"#7201a8\"],[0.3333333333333333,\"#9c179e\"],[0.4444444444444444,\"#bd3786\"],[0.5555555555555556,\"#d8576b\"],[0.6666666666666666,\"#ed7953\"],[0.7777777777777778,\"#fb9f3a\"],[0.8888888888888888,\"#fdca26\"],[1.0,\"#f0f921\"]]}],\"heatmap\":[{\"type\":\"heatmap\",\"colorbar\":{\"outlinewidth\":0,\"ticks\":\"\"},\"colorscale\":[[0.0,\"#0d0887\"],[0.1111111111111111,\"#46039f\"],[0.2222222222222222,\"#7201a8\"],[0.3333333333333333,\"#9c179e\"],[0.4444444444444444,\"#bd3786\"],[0.5555555555555556,\"#d8576b\"],[0.6666666666666666,\"#ed7953\"],[0.7777777777777778,\"#fb9f3a\"],[0.8888888888888888,\"#fdca26\"],[1.0,\"#f0f921\"]]}],\"heatmapgl\":[{\"type\":\"heatmapgl\",\"colorbar\":{\"outlinewidth\":0,\"ticks\":\"\"},\"colorscale\":[[0.0,\"#0d0887\"],[0.1111111111111111,\"#46039f\"],[0.2222222222222222,\"#7201a8\"],[0.3333333333333333,\"#9c179e\"],[0.4444444444444444,\"#bd3786\"],[0.5555555555555556,\"#d8576b\"],[0.6666666666666666,\"#ed7953\"],[0.7777777777777778,\"#fb9f3a\"],[0.8888888888888888,\"#fdca26\"],[1.0,\"#f0f921\"]]}],\"contourcarpet\":[{\"type\":\"contourcarpet\",\"colorbar\":{\"outlinewidth\":0,\"ticks\":\"\"}}],\"contour\":[{\"type\":\"contour\",\"colorbar\":{\"outlinewidth\":0,\"ticks\":\"\"},\"colorscale\":[[0.0,\"#0d0887\"],[0.1111111111111111,\"#46039f\"],[0.2222222222222222,\"#7201a8\"],[0.3333333333333333,\"#9c179e\"],[0.4444444444444444,\"#bd3786\"],[0.5555555555555556,\"#d8576b\"],[0.6666666666666666,\"#ed7953\"],[0.7777777777777778,\"#fb9f3a\"],[0.8888888888888888,\"#fdca26\"],[1.0,\"#f0f921\"]]}],\"surface\":[{\"type\":\"surface\",\"colorbar\":{\"outlinewidth\":0,\"ticks\":\"\"},\"colorscale\":[[0.0,\"#0d0887\"],[0.1111111111111111,\"#46039f\"],[0.2222222222222222,\"#7201a8\"],[0.3333333333333333,\"#9c179e\"],[0.4444444444444444,\"#bd3786\"],[0.5555555555555556,\"#d8576b\"],[0.6666666666666666,\"#ed7953\"],[0.7777777777777778,\"#fb9f3a\"],[0.8888888888888888,\"#fdca26\"],[1.0,\"#f0f921\"]]}],\"mesh3d\":[{\"type\":\"mesh3d\",\"colorbar\":{\"outlinewidth\":0,\"ticks\":\"\"}}],\"scatter\":[{\"fillpattern\":{\"fillmode\":\"overlay\",\"size\":10,\"solidity\":0.2},\"type\":\"scatter\"}],\"parcoords\":[{\"type\":\"parcoords\",\"line\":{\"colorbar\":{\"outlinewidth\":0,\"ticks\":\"\"}}}],\"scatterpolargl\":[{\"type\":\"scatterpolargl\",\"marker\":{\"colorbar\":{\"outlinewidth\":0,\"ticks\":\"\"}}}],\"bar\":[{\"error_x\":{\"color\":\"#2a3f5f\"},\"error_y\":{\"color\":\"#2a3f5f\"},\"marker\":{\"line\":{\"color\":\"#E5ECF6\",\"width\":0.5},\"pattern\":{\"fillmode\":\"overlay\",\"size\":10,\"solidity\":0.2}},\"type\":\"bar\"}],\"scattergeo\":[{\"type\":\"scattergeo\",\"marker\":{\"colorbar\":{\"outlinewidth\":0,\"ticks\":\"\"}}}],\"scatterpolar\":[{\"type\":\"scatterpolar\",\"marker\":{\"colorbar\":{\"outlinewidth\":0,\"ticks\":\"\"}}}],\"histogram\":[{\"marker\":{\"pattern\":{\"fillmode\":\"overlay\",\"size\":10,\"solidity\":0.2}},\"type\":\"histogram\"}],\"scattergl\":[{\"type\":\"scattergl\",\"marker\":{\"colorbar\":{\"outlinewidth\":0,\"ticks\":\"\"}}}],\"scatter3d\":[{\"type\":\"scatter3d\",\"line\":{\"colorbar\":{\"outlinewidth\":0,\"ticks\":\"\"}},\"marker\":{\"colorbar\":{\"outlinewidth\":0,\"ticks\":\"\"}}}],\"scattermapbox\":[{\"type\":\"scattermapbox\",\"marker\":{\"colorbar\":{\"outlinewidth\":0,\"ticks\":\"\"}}}],\"scatterternary\":[{\"type\":\"scatterternary\",\"marker\":{\"colorbar\":{\"outlinewidth\":0,\"ticks\":\"\"}}}],\"scattercarpet\":[{\"type\":\"scattercarpet\",\"marker\":{\"colorbar\":{\"outlinewidth\":0,\"ticks\":\"\"}}}],\"carpet\":[{\"aaxis\":{\"endlinecolor\":\"#2a3f5f\",\"gridcolor\":\"white\",\"linecolor\":\"white\",\"minorgridcolor\":\"white\",\"startlinecolor\":\"#2a3f5f\"},\"baxis\":{\"endlinecolor\":\"#2a3f5f\",\"gridcolor\":\"white\",\"linecolor\":\"white\",\"minorgridcolor\":\"white\",\"startlinecolor\":\"#2a3f5f\"},\"type\":\"carpet\"}],\"table\":[{\"cells\":{\"fill\":{\"color\":\"#EBF0F8\"},\"line\":{\"color\":\"white\"}},\"header\":{\"fill\":{\"color\":\"#C8D4E3\"},\"line\":{\"color\":\"white\"}},\"type\":\"table\"}],\"barpolar\":[{\"marker\":{\"line\":{\"color\":\"#E5ECF6\",\"width\":0.5},\"pattern\":{\"fillmode\":\"overlay\",\"size\":10,\"solidity\":0.2}},\"type\":\"barpolar\"}],\"pie\":[{\"automargin\":true,\"type\":\"pie\"}]},\"layout\":{\"autotypenumbers\":\"strict\",\"colorway\":[\"#636efa\",\"#EF553B\",\"#00cc96\",\"#ab63fa\",\"#FFA15A\",\"#19d3f3\",\"#FF6692\",\"#B6E880\",\"#FF97FF\",\"#FECB52\"],\"font\":{\"color\":\"#2a3f5f\"},\"hovermode\":\"closest\",\"hoverlabel\":{\"align\":\"left\"},\"paper_bgcolor\":\"white\",\"plot_bgcolor\":\"#E5ECF6\",\"polar\":{\"bgcolor\":\"#E5ECF6\",\"angularaxis\":{\"gridcolor\":\"white\",\"linecolor\":\"white\",\"ticks\":\"\"},\"radialaxis\":{\"gridcolor\":\"white\",\"linecolor\":\"white\",\"ticks\":\"\"}},\"ternary\":{\"bgcolor\":\"#E5ECF6\",\"aaxis\":{\"gridcolor\":\"white\",\"linecolor\":\"white\",\"ticks\":\"\"},\"baxis\":{\"gridcolor\":\"white\",\"linecolor\":\"white\",\"ticks\":\"\"},\"caxis\":{\"gridcolor\":\"white\",\"linecolor\":\"white\",\"ticks\":\"\"}},\"coloraxis\":{\"colorbar\":{\"outlinewidth\":0,\"ticks\":\"\"}},\"colorscale\":{\"sequential\":[[0.0,\"#0d0887\"],[0.1111111111111111,\"#46039f\"],[0.2222222222222222,\"#7201a8\"],[0.3333333333333333,\"#9c179e\"],[0.4444444444444444,\"#bd3786\"],[0.5555555555555556,\"#d8576b\"],[0.6666666666666666,\"#ed7953\"],[0.7777777777777778,\"#fb9f3a\"],[0.8888888888888888,\"#fdca26\"],[1.0,\"#f0f921\"]],\"sequentialminus\":[[0.0,\"#0d0887\"],[0.1111111111111111,\"#46039f\"],[0.2222222222222222,\"#7201a8\"],[0.3333333333333333,\"#9c179e\"],[0.4444444444444444,\"#bd3786\"],[0.5555555555555556,\"#d8576b\"],[0.6666666666666666,\"#ed7953\"],[0.7777777777777778,\"#fb9f3a\"],[0.8888888888888888,\"#fdca26\"],[1.0,\"#f0f921\"]],\"diverging\":[[0,\"#8e0152\"],[0.1,\"#c51b7d\"],[0.2,\"#de77ae\"],[0.3,\"#f1b6da\"],[0.4,\"#fde0ef\"],[0.5,\"#f7f7f7\"],[0.6,\"#e6f5d0\"],[0.7,\"#b8e186\"],[0.8,\"#7fbc41\"],[0.9,\"#4d9221\"],[1,\"#276419\"]]},\"xaxis\":{\"gridcolor\":\"white\",\"linecolor\":\"white\",\"ticks\":\"\",\"title\":{\"standoff\":15},\"zerolinecolor\":\"white\",\"automargin\":true,\"zerolinewidth\":2},\"yaxis\":{\"gridcolor\":\"white\",\"linecolor\":\"white\",\"ticks\":\"\",\"title\":{\"standoff\":15},\"zerolinecolor\":\"white\",\"automargin\":true,\"zerolinewidth\":2},\"scene\":{\"xaxis\":{\"backgroundcolor\":\"#E5ECF6\",\"gridcolor\":\"white\",\"linecolor\":\"white\",\"showbackground\":true,\"ticks\":\"\",\"zerolinecolor\":\"white\",\"gridwidth\":2},\"yaxis\":{\"backgroundcolor\":\"#E5ECF6\",\"gridcolor\":\"white\",\"linecolor\":\"white\",\"showbackground\":true,\"ticks\":\"\",\"zerolinecolor\":\"white\",\"gridwidth\":2},\"zaxis\":{\"backgroundcolor\":\"#E5ECF6\",\"gridcolor\":\"white\",\"linecolor\":\"white\",\"showbackground\":true,\"ticks\":\"\",\"zerolinecolor\":\"white\",\"gridwidth\":2}},\"shapedefaults\":{\"line\":{\"color\":\"#2a3f5f\"}},\"annotationdefaults\":{\"arrowcolor\":\"#2a3f5f\",\"arrowhead\":0,\"arrowwidth\":1},\"geo\":{\"bgcolor\":\"white\",\"landcolor\":\"#E5ECF6\",\"subunitcolor\":\"white\",\"showland\":true,\"showlakes\":true,\"lakecolor\":\"white\"},\"title\":{\"x\":0.05},\"mapbox\":{\"style\":\"light\"}}},\"xaxis\":{\"anchor\":\"y\",\"domain\":[0.0,1.0],\"title\":{\"text\":\"emissions\"}},\"yaxis\":{\"anchor\":\"x\",\"domain\":[0.0,1.0],\"title\":{\"text\":\"segment\"}},\"legend\":{\"title\":{\"text\":\"reason\"},\"tracegroupgap\":0},\"margin\":{\"t\":60},\"barmode\":\"relative\"},                        {\"responsive\": true}                    ).then(function(){\n",
       "                            \n",
       "var gd = document.getElementById('dbb4a0fe-6e67-4a59-bd1b-64cb48818a89');\n",
       "var x = new MutationObserver(function (mutations, observer) {{\n",
       "        var display = window.getComputedStyle(gd).display;\n",
       "        if (!display || display === 'none') {{\n",
       "            console.log([gd, 'removed!']);\n",
       "            Plotly.purge(gd);\n",
       "            observer.disconnect();\n",
       "        }}\n",
       "}});\n",
       "\n",
       "// Listen for the removal of the full notebook cells\n",
       "var notebookContainer = gd.closest('#notebook-container');\n",
       "if (notebookContainer) {{\n",
       "    x.observe(notebookContainer, {childList: true});\n",
       "}}\n",
       "\n",
       "// Listen for the clearing of the current output cell\n",
       "var outputEl = gd.closest('.output');\n",
       "if (outputEl) {{\n",
       "    x.observe(outputEl, {childList: true});\n",
       "}}\n",
       "\n",
       "                        })                };                });            </script>        </div>"
      ]
     },
     "metadata": {},
     "output_type": "display_data"
    }
   ],
   "source": [
    "\n",
    "px.bar(temp3,x='emissions',y='segment',color='reason')"
   ]
  },
  {
   "cell_type": "markdown",
   "id": "0ef94dff",
   "metadata": {
    "papermill": {
     "duration": 0.020266,
     "end_time": "2023-03-31T05:18:47.767953",
     "exception": false,
     "start_time": "2023-03-31T05:18:47.747687",
     "status": "completed"
    },
    "tags": []
   },
   "source": [
    "Data Modelling"
   ]
  },
  {
   "cell_type": "code",
   "execution_count": 30,
   "id": "e51d4625",
   "metadata": {
    "execution": {
     "iopub.execute_input": "2023-03-31T05:18:47.809415Z",
     "iopub.status.busy": "2023-03-31T05:18:47.808924Z",
     "iopub.status.idle": "2023-03-31T05:18:48.083847Z",
     "shell.execute_reply": "2023-03-31T05:18:48.082821Z"
    },
    "papermill": {
     "duration": 0.298787,
     "end_time": "2023-03-31T05:18:48.086664",
     "exception": false,
     "start_time": "2023-03-31T05:18:47.787877",
     "status": "completed"
    },
    "tags": []
   },
   "outputs": [],
   "source": [
    "# Import the necessary libraries\n",
    "import pandas as pd\n",
    "from sklearn.model_selection import train_test_split\n",
    "from sklearn.linear_model import LinearRegression\n",
    "from sklearn.metrics import mean_squared_error, r2_score"
   ]
  },
  {
   "cell_type": "code",
   "execution_count": 31,
   "id": "b9c0b158",
   "metadata": {
    "execution": {
     "iopub.execute_input": "2023-03-31T05:18:48.127737Z",
     "iopub.status.busy": "2023-03-31T05:18:48.127297Z",
     "iopub.status.idle": "2023-03-31T05:18:48.147172Z",
     "shell.execute_reply": "2023-03-31T05:18:48.145917Z"
    },
    "papermill": {
     "duration": 0.043814,
     "end_time": "2023-03-31T05:18:48.150014",
     "exception": false,
     "start_time": "2023-03-31T05:18:48.106200",
     "status": "completed"
    },
    "tags": []
   },
   "outputs": [],
   "source": [
    "# Load the dataset\n",
    "df = pd.read_csv('/kaggle/input/global-methane-emissions/Methane_final.csv')"
   ]
  },
  {
   "cell_type": "code",
   "execution_count": 32,
   "id": "8873a002",
   "metadata": {
    "execution": {
     "iopub.execute_input": "2023-03-31T05:18:48.192110Z",
     "iopub.status.busy": "2023-03-31T05:18:48.191650Z",
     "iopub.status.idle": "2023-03-31T05:18:48.198846Z",
     "shell.execute_reply": "2023-03-31T05:18:48.197574Z"
    },
    "papermill": {
     "duration": 0.031087,
     "end_time": "2023-03-31T05:18:48.201254",
     "exception": false,
     "start_time": "2023-03-31T05:18:48.170167",
     "status": "completed"
    },
    "tags": []
   },
   "outputs": [],
   "source": [
    "# Define the feature and target variables\n",
    "X = df[['region', 'type', 'segment', 'reason', 'baseYear']]\n",
    "y = df['emissions']"
   ]
  },
  {
   "cell_type": "code",
   "execution_count": 33,
   "id": "fbb33cf9",
   "metadata": {
    "execution": {
     "iopub.execute_input": "2023-03-31T05:18:48.243055Z",
     "iopub.status.busy": "2023-03-31T05:18:48.241884Z",
     "iopub.status.idle": "2023-03-31T05:18:48.254200Z",
     "shell.execute_reply": "2023-03-31T05:18:48.253279Z"
    },
    "papermill": {
     "duration": 0.035916,
     "end_time": "2023-03-31T05:18:48.256592",
     "exception": false,
     "start_time": "2023-03-31T05:18:48.220676",
     "status": "completed"
    },
    "tags": []
   },
   "outputs": [],
   "source": [
    "# Convert categorical variables to numerical using one-hot encoding\n",
    "X = pd.get_dummies(X, columns=['region', 'type', 'segment', 'reason', 'baseYear'])"
   ]
  },
  {
   "cell_type": "code",
   "execution_count": 34,
   "id": "f32c7e8b",
   "metadata": {
    "execution": {
     "iopub.execute_input": "2023-03-31T05:18:48.297934Z",
     "iopub.status.busy": "2023-03-31T05:18:48.296780Z",
     "iopub.status.idle": "2023-03-31T05:18:48.305680Z",
     "shell.execute_reply": "2023-03-31T05:18:48.304282Z"
    },
    "papermill": {
     "duration": 0.03209,
     "end_time": "2023-03-31T05:18:48.308078",
     "exception": false,
     "start_time": "2023-03-31T05:18:48.275988",
     "status": "completed"
    },
    "tags": []
   },
   "outputs": [],
   "source": [
    "# Split the data into training and testing sets\n",
    "X_train, X_test, y_train, y_test = train_test_split(X, y, test_size=0.2, random_state=42)"
   ]
  },
  {
   "cell_type": "code",
   "execution_count": 35,
   "id": "70ca63c8",
   "metadata": {
    "execution": {
     "iopub.execute_input": "2023-03-31T05:18:48.348706Z",
     "iopub.status.busy": "2023-03-31T05:18:48.348255Z",
     "iopub.status.idle": "2023-03-31T05:18:48.373279Z",
     "shell.execute_reply": "2023-03-31T05:18:48.371929Z"
    },
    "papermill": {
     "duration": 0.048964,
     "end_time": "2023-03-31T05:18:48.376445",
     "exception": false,
     "start_time": "2023-03-31T05:18:48.327481",
     "status": "completed"
    },
    "tags": []
   },
   "outputs": [
    {
     "data": {
      "text/plain": [
       "LinearRegression()"
      ]
     },
     "execution_count": 35,
     "metadata": {},
     "output_type": "execute_result"
    }
   ],
   "source": [
    "# Train a linear regression model\n",
    "model = LinearRegression()\n",
    "model.fit(X_train, y_train)"
   ]
  },
  {
   "cell_type": "code",
   "execution_count": 36,
   "id": "a64699e4",
   "metadata": {
    "execution": {
     "iopub.execute_input": "2023-03-31T05:18:48.445433Z",
     "iopub.status.busy": "2023-03-31T05:18:48.444802Z",
     "iopub.status.idle": "2023-03-31T05:18:48.455044Z",
     "shell.execute_reply": "2023-03-31T05:18:48.453645Z"
    },
    "papermill": {
     "duration": 0.049471,
     "end_time": "2023-03-31T05:18:48.458472",
     "exception": false,
     "start_time": "2023-03-31T05:18:48.409001",
     "status": "completed"
    },
    "tags": []
   },
   "outputs": [],
   "source": [
    "# Make predictions on the test set\n",
    "y_pred = model.predict(X_test)"
   ]
  },
  {
   "cell_type": "code",
   "execution_count": 37,
   "id": "a9ddfb37",
   "metadata": {
    "execution": {
     "iopub.execute_input": "2023-03-31T05:18:48.556617Z",
     "iopub.status.busy": "2023-03-31T05:18:48.555993Z",
     "iopub.status.idle": "2023-03-31T05:18:48.569703Z",
     "shell.execute_reply": "2023-03-31T05:18:48.567506Z"
    },
    "papermill": {
     "duration": 0.06089,
     "end_time": "2023-03-31T05:18:48.573814",
     "exception": false,
     "start_time": "2023-03-31T05:18:48.512924",
     "status": "completed"
    },
    "tags": []
   },
   "outputs": [
    {
     "name": "stdout",
     "output_type": "stream",
     "text": [
      "Mean squared error: 54384878.03\n",
      "R-squared: 0.21\n"
     ]
    }
   ],
   "source": [
    "# Evaluate the performance of the model using mean squared error and R-squared\n",
    "mse = mean_squared_error(y_test, y_pred)\n",
    "r2 = r2_score(y_test, y_pred)\n",
    "\n",
    "print(f'Mean squared error: {mse:.2f}')\n",
    "print(f'R-squared: {r2:.2f}')"
   ]
  },
  {
   "cell_type": "markdown",
   "id": "dd85a0f3",
   "metadata": {
    "papermill": {
     "duration": 0.019428,
     "end_time": "2023-03-31T05:18:48.613451",
     "exception": false,
     "start_time": "2023-03-31T05:18:48.594023",
     "status": "completed"
    },
    "tags": []
   },
   "source": [
    "**The results you obtained show that the model has a high mean squared error, indicating that it is not performing very well at predicting methane emissions. Additionally, the R-squared value is low, which means that only 21% of the variance in the target variable is explained by the model.**"
   ]
  },
  {
   "cell_type": "markdown",
   "id": "157bb21a",
   "metadata": {
    "papermill": {
     "duration": 0.01924,
     "end_time": "2023-03-31T05:18:48.652261",
     "exception": false,
     "start_time": "2023-03-31T05:18:48.633021",
     "status": "completed"
    },
    "tags": []
   },
   "source": [
    "To improve the performance of the model, you could try the following:\n",
    "\n",
    "- **Feature engineering**: create new features that may be more informative or relevant for predicting methane emissions. For example, you could calculate the population density or economic activity in each country, or include data on land use, livestock population, or energy consumption.\n",
    "\n",
    "- **Feature selection:** eliminate irrelevant or redundant features that may be introducing noise or reducing the model's ability to generalize to new data. You could use techniques such as correlation analysis, principal component analysis (PCA), or regularization to identify and remove unnecessary features.\n",
    "\n",
    "- **Model selection:** try different models and compare their performance using appropriate metrics. You could use more advanced regression models such as decision trees, random forests, or gradient boosting, or consider non-linear models such as neural networks.\n",
    "\n",
    "- **Hyperparameter tuning:** optimize the parameters of the chosen model(s) to improve their performance on the validation or test set. You could use techniques such as grid search or random search to explore the parameter space and find the best combination of hyperparameters.\n",
    "\n",
    "- **Cross-validation:** use cross-validation to evaluate the performance of the model on multiple folds of the data, and assess its ability to generalize to new data."
   ]
  }
 ],
 "metadata": {
  "kernelspec": {
   "display_name": "Python 3",
   "language": "python",
   "name": "python3"
  },
  "language_info": {
   "codemirror_mode": {
    "name": "ipython",
    "version": 3
   },
   "file_extension": ".py",
   "mimetype": "text/x-python",
   "name": "python",
   "nbconvert_exporter": "python",
   "pygments_lexer": "ipython3",
   "version": "3.7.12"
  },
  "papermill": {
   "default_parameters": {},
   "duration": 21.198072,
   "end_time": "2023-03-31T05:18:49.494325",
   "environment_variables": {},
   "exception": null,
   "input_path": "__notebook__.ipynb",
   "output_path": "__notebook__.ipynb",
   "parameters": {},
   "start_time": "2023-03-31T05:18:28.296253",
   "version": "2.4.0"
  }
 },
 "nbformat": 4,
 "nbformat_minor": 5
}
